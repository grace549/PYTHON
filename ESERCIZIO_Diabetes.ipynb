{
 "cells": [
  {
   "cell_type": "code",
   "execution_count": null,
   "id": "d5374cd2-98df-42bb-bea8-bd888c8aa548",
   "metadata": {},
   "outputs": [],
   "source": [
    "import pandas as pd\n",
    "\n",
    "df_diabetes = pd.read_csv('diabetes.csv')\n",
    "print(df_diabetes.head(5))"
   ]
  },
  {
   "cell_type": "code",
   "execution_count": null,
   "id": "4bb8eabb-b74d-4b7b-a691-529fb821bf61",
   "metadata": {},
   "outputs": [],
   "source": [
    "#Osservare i dati\n",
    "#Per le colonne\n",
    "print(df_diabetes.columns)\n",
    "#Per info generali su dataset\n",
    "print(df_diabetes.info())\n",
    "#Statistiche descrittive\n",
    "print(df_diabetes.describe())\n",
    "#Se ci sono dei NULL\n",
    "print(df_diabetes.isnull().sum())\n",
    "#Per vedere il tipo di colonna\n",
    "print(df_diabetes.dtypes)"
   ]
  },
  {
   "cell_type": "code",
   "execution_count": null,
   "id": "7cfc97fe-c35b-423f-999b-263d8b223335",
   "metadata": {},
   "outputs": [],
   "source": [
    "#Lo riscriviamo se vogliamo vedere i descrittori statistici del dataset si scrive:\n",
    "print(df_diabetes.describe())"
   ]
  },
  {
   "cell_type": "code",
   "execution_count": null,
   "id": "6e7a6c4c-49b5-42a5-a408-d2e054dee92b",
   "metadata": {},
   "outputs": [],
   "source": [
    "#Selezioniamo i dati relativi a diverse fasce di età: 20-29, 30-39, 40-50;\n",
    "# Fascia 20-29\n",
    "fascia_20_29 = df_diabetes[(df_diabetes['Age'] >= 20) & (df_diabetes['Age'] <= 29)]\n",
    "\n",
    "# Fascia 30-39\n",
    "fascia_30_39 = df_diabetes[(df_diabetes['Age'] >= 30) & (df_diabetes['Age'] <= 39)]\n",
    "\n",
    "# Fascia 40-50\n",
    "fascia_40_50 = df_diabetes[(df_diabetes['Age'] >= 40) & (df_diabetes['Age'] <= 50)]\n",
    "\n",
    "print(fascia_20_29.head())\n",
    "print(fascia_30_39.head())\n",
    "print(fascia_40_50.head())"
   ]
  },
  {
   "cell_type": "code",
   "execution_count": null,
   "id": "71e044a3-4d50-447a-9605-bbae167fd3cc",
   "metadata": {},
   "outputs": [],
   "source": [
    "#Diastolica media\n",
    "\n",
    "fascia_20_29 = df_diabetes[(df_diabetes['Age (years)'] >= 20) & (df_diabetes['Age (years)'] <= 29)]\n",
    "fascia_30_39 = df_diabetes[(df_diabetes['Age (years)'] >= 30) & (df_diabetes['Age (years)'] <= 39)]\n",
    "fascia_40_50 = df_diabetes[(df_diabetes['Age (years)'] >= 40) & (df_diabetes['Age (years)'] <= 50)]\n",
    "\n",
    "media_20_29 = fascia_20_29['Diastolic blood pressure (mm Hg)'].mean()\n",
    "media_30_39 = fascia_30_39['Diastolic blood pressure (mm Hg)'].mean()\n",
    "media_40_50 = fascia_40_50['Diastolic blood pressure (mm Hg)'].mean()\n",
    "\n",
    "print(f\"Media pressione diastolica 20-29 anni: {media_20_29:.2f} mm Hg\")\n",
    "print(f\"Media pressione diastolica 30-39 anni: {media_30_39:.2f} mm Hg\")\n",
    "print(f\"Media pressione diastolica 40-50 anni: {media_40_50:.2f} mm Hg\")"
   ]
  },
  {
   "cell_type": "code",
   "execution_count": null,
   "id": "8ce10552-ecad-4d75-aadb-ea96434405c2",
   "metadata": {},
   "outputs": [],
   "source": []
  }
 ],
 "metadata": {
  "kernelspec": {
   "display_name": "Python [conda env:base] *",
   "language": "python",
   "name": "conda-base-py"
  },
  "language_info": {
   "codemirror_mode": {
    "name": "ipython",
    "version": 3
   },
   "file_extension": ".py",
   "mimetype": "text/x-python",
   "name": "python",
   "nbconvert_exporter": "python",
   "pygments_lexer": "ipython3",
   "version": "3.12.7"
  }
 },
 "nbformat": 4,
 "nbformat_minor": 5
}
