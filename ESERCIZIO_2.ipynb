{
 "cells": [
  {
   "cell_type": "code",
   "execution_count": null,
   "id": "77862e74-b3d0-4b60-b755-4ce2168456c2",
   "metadata": {},
   "outputs": [],
   "source": [
    "nome_scuola = \"Epicode\" \n",
    "i = 0\n",
    "\n",
    "while i < len(nome_scuola):\n",
    "    print(nome_scuola[i])\n",
    "    i += 1"
   ]
  },
  {
   "cell_type": "code",
   "execution_count": null,
   "id": "7e4cd25a-28c4-4343-9070-57447e834ea0",
   "metadata": {},
   "outputs": [],
   "source": [
    "numero = 0  \n",
    "\n",
    "while numero <= 20:\n",
    "    print(numero)\n",
    "    numero += 1\n"
   ]
  },
  {
   "cell_type": "code",
   "execution_count": null,
   "id": "53059885-fd41-45f4-8b28-63df90a31c18",
   "metadata": {},
   "outputs": [],
   "source": [
    "esponente = 0\n",
    "\n",
    "while esponente < 10:\n",
    "    potenza = 2 ** esponente\n",
    "    print(f\"2^{esponente} = {potenza}\")\n",
    "    esponente += 1"
   ]
  },
  {
   "cell_type": "code",
   "execution_count": null,
   "id": "7c3a84b6-d731-4345-bc1a-691d682fa87b",
   "metadata": {},
   "outputs": [],
   "source": [
    "N = 5\n",
    "esponente = 0\n",
    "\n",
    "while esponente < N:\n",
    "    potenza = 2 ** esponente\n",
    "    print(f\"2^{esponente} = {potenza}\")\n",
    "    esponente += 1"
   ]
  },
  {
   "cell_type": "code",
   "execution_count": null,
   "id": "02b7bb23-96e3-44a4-bef2-3f681ba20f4b",
   "metadata": {},
   "outputs": [],
   "source": [
    "esponente = 0\n",
    "potenza = 1\n",
    "\n",
    "while potenza < 25000:\n",
    "    print(f\"2^{esponente} = {potenza}\")\n",
    "    esponente += 1\n",
    "    potenza = 2 ** esponente"
   ]
  },
  {
   "cell_type": "code",
   "execution_count": null,
   "id": "f34d9bfc-44c5-4eeb-9694-b700e0ff618e",
   "metadata": {},
   "outputs": [],
   "source": [
    "stringa = input (\"Inserisci una stringa:\")\n",
    "print (\"Hai scritto\", stringa)\n",
    "lunghezza = len(stringa)\n",
    "\n",
    "if lunghezza >= 6:\n",
    "    risultato = stringa[:3] + \"...\" + stringa[-3:]\n",
    "elif lunghezza == 5:\n",
    "    risultato = stringa[:2] + \"...\" + stringa[-2:]\n",
    "elif lunghezza == 4:\n",
    "    risultato = stringa[:2] + \"...\" + stringa[-1]\n",
    "elif lunghezza in [1, 2, 3]:\n",
    "    risultato = stringa\n",
    "else:\n",
    "    risultato = \"\"\n",
    "\n",
    "print (risultato)\n"
   ]
  },
  {
   "cell_type": "code",
   "execution_count": null,
   "id": "50aaea0e-a395-44ff-a0cf-1e883047e6fd",
   "metadata": {},
   "outputs": [],
   "source": [
    "numero = 150\n",
    "fattori = []\n",
    "divisore = 2\n",
    "\n",
    "while divisore <= numero:\n",
    "    if numero % divisore == 0:\n",
    "        fattori.append(divisore)\n",
    "        numero = numero // divisore\n",
    "    else:\n",
    "        divisore += 1\n",
    "\n",
    "print(*fattori, sep=',')"
   ]
  },
  {
   "cell_type": "code",
   "execution_count": null,
   "id": "17d00357-b6ce-474a-b4ac-fb67bb8baf71",
   "metadata": {},
   "outputs": [],
   "source": [
    "nome_scuola = \"Epicode\"\n",
    "\n",
    "for carattere in nome_scuola:\n",
    "    print(carattere)"
   ]
  },
  {
   "cell_type": "code",
   "execution_count": null,
   "id": "fb8d630a-be88-4856-a537-e95846c123ba",
   "metadata": {},
   "outputs": [],
   "source": [
    "for esponente in range(10):\n",
    "    potenza = 2 ** esponente\n",
    "    print(f\"2^{esponente} = {potenza}\")"
   ]
  },
  {
   "cell_type": "code",
   "execution_count": null,
   "id": "fddd08be-d550-4501-be5a-ba1f0e687229",
   "metadata": {},
   "outputs": [],
   "source": [
    "N = int(input(\"Inserisci il numero di potenze N: \"))\n",
    "K = int(input(\"Inserisci la base K: \"))\n",
    "\n",
    "potenze = []\n",
    "i = 0\n",
    "\n",
    "while i < N:\n",
    "    potenze.append(K ** i)\n",
    "    i += 1\n",
    "\n",
    "print(potenze)"
   ]
  },
  {
   "cell_type": "code",
   "execution_count": null,
   "id": "1299c84c-ee91-4a26-9ac8-0ab192110131",
   "metadata": {},
   "outputs": [],
   "source": [
    "N = int(input(\"Inserisci il numero di potenze N: \"))\n",
    "K = int(input(\"Inserisci la base K: \"))\n",
    "\n",
    "potenze = []\n",
    "\n",
    "for i in range(N):\n",
    "    potenze.append(K ** i)\n",
    "\n",
    "print(potenze)"
   ]
  },
  {
   "cell_type": "code",
   "execution_count": null,
   "id": "fa137e91-6340-46a2-ab63-44565ab1b5ee",
   "metadata": {},
   "outputs": [],
   "source": [
    "guadagni = [100, 90, 70, 40, 50, 80, 90, 120, 80, 20, 50, 50]\n",
    "somma = 0\n",
    "for valore in guadagni:\n",
    "    somma += valore\n",
    "\n",
    "media = somma / len(guadagni)\n",
    "print(\"La media dei guadagni è:\", media)"
   ]
  },
  {
   "cell_type": "code",
   "execution_count": null,
   "id": "fa79126d-608b-470b-9fdd-88841a79b4f2",
   "metadata": {},
   "outputs": [],
   "source": [
    "parole = [\"Albergo\", \"Sedia\", \"Borgo\", \"Petalo\", \"Eremo\", \"Belvedere\", \"Semestre\", \"Esteta\", \"Sosta\", \"Orpello\", \"Abete\", \"Orologio\", \"Cesta\", \"Ermellino\"]\n",
    "\n",
    "for parola in parole:\n",
    "    parola_minuscola = parola.lower()\n",
    "    conta_e = parola_minuscola.count('e')\n",
    "    print(f\"Nella parola '{parola}' la lettera 'e' appare {conta_e} volte.\")"
   ]
  },
  {
   "cell_type": "code",
   "execution_count": null,
   "id": "0580e6d4-06be-4078-aa4f-f74e0cf2684c",
   "metadata": {},
   "outputs": [],
   "source": [
    "auto_proprietari = {\n",
    "    \"Ada\": \"Punto\",\n",
    "    \"Ben\": \"Multipla\",\n",
    "    \"Charlie\": \"Golf\",\n",
    "    \"Debbie\": \"107\"\n",
    "}\n",
    "print(auto_proprietari)\n",
    "print(\"L'auto di Debbie è:\", auto_proprietari[\"Debbie\"])\n"
   ]
  },
  {
   "cell_type": "code",
   "execution_count": null,
   "id": "d1288040-85d3-470f-a1d8-c982c88de152",
   "metadata": {},
   "outputs": [],
   "source": [
    "dizionario_auto = {\"Ada\": \"Punto\", \"Ben\": \"Multipla\", \"Charlie\": \"Golf\", \"Debbie\": \"107\"}\n",
    "\n",
    "for auto in dizionario_auto.values():\n",
    "    if auto != \"Multipla\":\n",
    "        print(auto)"
   ]
  },
  {
   "cell_type": "code",
   "execution_count": null,
   "id": "bc9d7fc4-c572-4ace-a2ae-03c28b27f6aa",
   "metadata": {},
   "outputs": [],
   "source": [
    "dizionario_auto = {\"Ada\": \"Punto\", \"Ben\": \"Multipla\", \"Charlie\": \"Golf\", \"Debbie\": \"107\", \"Emily\": \"A1\"}\n",
    "nuovi_proprietari = {\"Ben\": \"Polo\", \"Fred\": \"Octavia\", \"Grace\": \"Yaris\", \"Hugh\": \"Clio\"}\n",
    "\n",
    "dizionario_auto.update(nuovi_proprietari)\n",
    "\n",
    "print(dizionario_auto)\n",
    "\n",
    "#cos'è successo a Ben? Ha cambiato auto da Multipla a Polo."
   ]
  },
  {
   "cell_type": "code",
   "execution_count": null,
   "id": "90b30766-b961-4231-b8a5-f4671c524cd1",
   "metadata": {},
   "outputs": [],
   "source": []
  }
 ],
 "metadata": {
  "kernelspec": {
   "display_name": "Python 3 (ipykernel)",
   "language": "python",
   "name": "python3"
  },
  "language_info": {
   "codemirror_mode": {
    "name": "ipython",
    "version": 3
   },
   "file_extension": ".py",
   "mimetype": "text/x-python",
   "name": "python",
   "nbconvert_exporter": "python",
   "pygments_lexer": "ipython3",
   "version": "3.12.7"
  }
 },
 "nbformat": 4,
 "nbformat_minor": 5
}
