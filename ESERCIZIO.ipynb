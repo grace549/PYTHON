{
 "cells": [
  {
   "cell_type": "markdown",
   "id": "b6ba3090-8402-4aa4-99f1-cf70c61d08cc",
   "metadata": {},
   "source": [
    "ASSEGNAZIONE VARIABILI"
   ]
  },
  {
   "cell_type": "code",
   "execution_count": 1,
   "id": "fb9c3c55-3680-46e7-a041-5c4124843570",
   "metadata": {},
   "outputs": [],
   "source": [
    "studenti = 25"
   ]
  },
  {
   "cell_type": "code",
   "execution_count": 2,
   "id": "4d26df49-0363-4ba4-a210-67491e144f37",
   "metadata": {},
   "outputs": [
    {
     "name": "stdout",
     "output_type": "stream",
     "text": [
      "25\n"
     ]
    }
   ],
   "source": [
    "print (studenti)"
   ]
  },
  {
   "cell_type": "code",
   "execution_count": 4,
   "id": "4479f9d5-3f18-4f28-8949-33543bf94c8a",
   "metadata": {},
   "outputs": [],
   "source": [
    "nuovi_studenti = 3"
   ]
  },
  {
   "cell_type": "code",
   "execution_count": 8,
   "id": "1cd5c1ed-1582-43fc-8b1a-1f3ec2ef54dc",
   "metadata": {},
   "outputs": [],
   "source": [
    "totale_studenti = (studenti + nuovi_studenti)"
   ]
  },
  {
   "cell_type": "code",
   "execution_count": 9,
   "id": "e82889cf-104f-4c4e-b418-eb6bc17d9486",
   "metadata": {},
   "outputs": [
    {
     "name": "stdout",
     "output_type": "stream",
     "text": [
      "28\n"
     ]
    }
   ],
   "source": [
    "print (totale_studenti)"
   ]
  },
  {
   "cell_type": "code",
   "execution_count": 10,
   "id": "ce9f446a-c6e2-49f7-81dd-459b3ef9085e",
   "metadata": {},
   "outputs": [],
   "source": [
    "nome_scuola = \"Epicode\""
   ]
  },
  {
   "cell_type": "code",
   "execution_count": 11,
   "id": "eb778ddd-fa1c-48fa-85bd-2d0ba79d17aa",
   "metadata": {},
   "outputs": [
    {
     "name": "stdout",
     "output_type": "stream",
     "text": [
      "Epicode\n"
     ]
    }
   ],
   "source": [
    "print (nome_scuola)"
   ]
  },
  {
   "cell_type": "code",
   "execution_count": 12,
   "id": "cba69430-46b5-467c-af58-10e44a716473",
   "metadata": {},
   "outputs": [],
   "source": [
    "x = 10 "
   ]
  },
  {
   "cell_type": "code",
   "execution_count": 13,
   "id": "8333f2ce-b42a-4d55-bd5f-823dfdfa4c7b",
   "metadata": {},
   "outputs": [
    {
     "data": {
      "text/plain": [
       "36"
      ]
     },
     "execution_count": 13,
     "metadata": {},
     "output_type": "execute_result"
    }
   ],
   "source": [
    "(x + 2)*3"
   ]
  },
  {
   "cell_type": "code",
   "execution_count": 14,
   "id": "f982c37f-d4ff-4319-9163-79c062b99b18",
   "metadata": {},
   "outputs": [],
   "source": [
    "str1 = \"Windows\"\n",
    "str2 = \"Excel\"\n",
    "str3 = \"PowerPoint\"\n",
    "str4 = \"Word\""
   ]
  },
  {
   "cell_type": "code",
   "execution_count": 15,
   "id": "cc0f0468-2b16-479a-9e25-d30481c0fb45",
   "metadata": {},
   "outputs": [
    {
     "name": "stdout",
     "output_type": "stream",
     "text": [
      "7\n",
      "5\n",
      "10\n",
      "4\n"
     ]
    }
   ],
   "source": [
    "print (len(str1))\n",
    "print (len(str2))\n",
    "print (len(str3))\n",
    "print (len(str4))"
   ]
  },
  {
   "cell_type": "code",
   "execution_count": 16,
   "id": "411791d5-f562-4619-8f5b-86ad2d617c0d",
   "metadata": {},
   "outputs": [],
   "source": [
    "secondi_giorno = 24*60*60"
   ]
  },
  {
   "cell_type": "code",
   "execution_count": 17,
   "id": "a2149cb7-8270-42c3-96fb-343700258a7e",
   "metadata": {},
   "outputs": [],
   "source": [
    "giorni_anno = 365"
   ]
  },
  {
   "cell_type": "code",
   "execution_count": 18,
   "id": "68ccaa95-b496-43b0-aed6-d429787fe988",
   "metadata": {},
   "outputs": [],
   "source": [
    "secondi_anno = secondi_giorno * giorni_anno"
   ]
  },
  {
   "cell_type": "code",
   "execution_count": 19,
   "id": "4cd7b3e0-59eb-47f7-893a-337b85f8bb2c",
   "metadata": {},
   "outputs": [
    {
     "name": "stdout",
     "output_type": "stream",
     "text": [
      "31536000\n"
     ]
    }
   ],
   "source": [
    "print (secondi_anno)"
   ]
  },
  {
   "cell_type": "code",
   "execution_count": 23,
   "id": "cf4da475-4ece-4661-84b9-2a341fd7cce4",
   "metadata": {},
   "outputs": [],
   "source": [
    "my_string = \"I am studying Python\" "
   ]
  },
  {
   "cell_type": "code",
   "execution_count": 24,
   "id": "dc616957-382b-44b8-8401-1a30ed512c0c",
   "metadata": {},
   "outputs": [
    {
     "name": "stdout",
     "output_type": "stream",
     "text": [
      "I AM STUDYING PYTHON\n"
     ]
    }
   ],
   "source": [
    "print(my_string.upper())"
   ]
  },
  {
   "cell_type": "code",
   "execution_count": 25,
   "id": "6f42b8e8-8d60-4c0a-8ff8-6a1c4e0ccb97",
   "metadata": {},
   "outputs": [
    {
     "name": "stdout",
     "output_type": "stream",
     "text": [
      "i am studying python\n"
     ]
    }
   ],
   "source": [
    "print(my_string.lower())"
   ]
  },
  {
   "cell_type": "code",
   "execution_count": 26,
   "id": "003a2088-294b-43ee-935f-9c22b1532b02",
   "metadata": {},
   "outputs": [
    {
     "name": "stdout",
     "output_type": "stream",
     "text": [
      "I am studying a lot\n"
     ]
    }
   ],
   "source": [
    "print(my_string.replace(\"Python\", \"a lot\"))"
   ]
  },
  {
   "cell_type": "code",
   "execution_count": 27,
   "id": "0c611443-dc1b-4191-b817-b4e58078da05",
   "metadata": {},
   "outputs": [
    {
     "name": "stdout",
     "output_type": "stream",
     "text": [
      "I am studying Python\n"
     ]
    }
   ],
   "source": [
    "print(my_string.strip()) #in questo caso non succede niente in quanto non ha spazi vuoti ne inizio ne fine"
   ]
  },
  {
   "cell_type": "code",
   "execution_count": 28,
   "id": "de2c5865-0da3-450d-8fac-a0ad95b3bc78",
   "metadata": {},
   "outputs": [
    {
     "name": "stdout",
     "output_type": "stream",
     "text": [
      "['I', 'am', 'studying', 'Python']\n"
     ]
    }
   ],
   "source": [
    "print(my_string.split())"
   ]
  },
  {
   "cell_type": "code",
   "execution_count": 29,
   "id": "cd6fdd2e-1c80-4902-b9c8-f0a99d7678da",
   "metadata": {},
   "outputs": [],
   "source": [
    "studenti = [\"Alex\", \"Bob\", \"Cindy\", \"Dan\", \"Emma\", \"Faith\", \"Grace\", \"Henry\"]"
   ]
  },
  {
   "cell_type": "code",
   "execution_count": 30,
   "id": "4f255120-3b9f-4b59-af72-3ff8caa9f1b0",
   "metadata": {},
   "outputs": [],
   "source": [
    "corsi = [\"Cybersecurity\", \"Data Analyst\", \"Backend\", \"Frontend\", \"Data Analyst\", \"Backend\"]"
   ]
  },
  {
   "cell_type": "code",
   "execution_count": 31,
   "id": "4679e311-75e3-4545-9b20-52fd91c069c8",
   "metadata": {},
   "outputs": [],
   "source": [
    "corsi.append(\"Frontend\")\n",
    "corsi.append(\"Cybersecurity\")"
   ]
  },
  {
   "cell_type": "code",
   "execution_count": 32,
   "id": "ebaf431f-e800-4427-8509-4aa8d6c142bd",
   "metadata": {},
   "outputs": [
    {
     "name": "stdout",
     "output_type": "stream",
     "text": [
      "['Alex', 'Bob', 'Cindy', 'Dan', 'Emma', 'Faith', 'Grace', 'Henry']\n"
     ]
    }
   ],
   "source": [
    "print (studenti)"
   ]
  },
  {
   "cell_type": "code",
   "execution_count": 33,
   "id": "f60e8b5b-7a74-430f-9778-d4365c939bb6",
   "metadata": {},
   "outputs": [
    {
     "name": "stdout",
     "output_type": "stream",
     "text": [
      "['Cybersecurity', 'Data Analyst', 'Backend', 'Frontend', 'Data Analyst', 'Backend', 'Frontend', 'Cybersecurity']\n"
     ]
    }
   ],
   "source": [
    "print (corsi)"
   ]
  },
  {
   "cell_type": "code",
   "execution_count": null,
   "id": "86644ada-1372-45d3-87ff-3b4ee2a8d8c7",
   "metadata": {},
   "outputs": [],
   "source": []
  }
 ],
 "metadata": {
  "kernelspec": {
   "display_name": "Python 3 (ipykernel)",
   "language": "python",
   "name": "python3"
  },
  "language_info": {
   "codemirror_mode": {
    "name": "ipython",
    "version": 3
   },
   "file_extension": ".py",
   "mimetype": "text/x-python",
   "name": "python",
   "nbconvert_exporter": "python",
   "pygments_lexer": "ipython3",
   "version": "3.12.7"
  }
 },
 "nbformat": 4,
 "nbformat_minor": 5
}
