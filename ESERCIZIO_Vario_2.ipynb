{
 "cells": [
  {
   "cell_type": "code",
   "execution_count": 2,
   "id": "e7e7466d-7644-4c71-ab14-75b587eb247f",
   "metadata": {},
   "outputs": [],
   "source": [
    "import numpy as np\n",
    "import pandas as pd \n",
    "\n",
    "temp = pd.DataFrame({\"Giorno\": [0, 1, 2, 3, 4, 5, 6, 7, 8, 9, 10, 11, 12], \n",
    "                     \"Temperature\": [18, 19, 18, np.nan, 21, 20, 20, np.nan, 21, 23, np.nan, 23, 24]})"
   ]
  },
  {
   "cell_type": "code",
   "execution_count": 3,
   "id": "ffa45801-8c45-4eaa-8659-da893b43016f",
   "metadata": {},
   "outputs": [],
   "source": [
    "#Interpolazione temporale\n",
    "#Poiché i dati sono una serie temporale giornaliera, ha senso stimare i valori mancanti interpolando i dati vicini.\n",
    "temp['Temperature_interpolata'] = temp['Temperature'].interpolate(method='linear')\n"
   ]
  },
  {
   "cell_type": "code",
   "execution_count": null,
   "id": "eee2925f-e7a1-4e91-b551-fc68ce101645",
   "metadata": {},
   "outputs": [],
   "source": [
    "#Sostituzione con media o mediana ma in alcuni casi non tiene conto di stagionalità o trend.\n",
    "media_temp = temp['Temperature'].mean()\n",
    "temp['Temperature_filled'] = temp['Temperature'].fillna(media_temp)"
   ]
  },
  {
   "cell_type": "code",
   "execution_count": null,
   "id": "c37411c7-7b27-4097-a141-954d7fae94da",
   "metadata": {},
   "outputs": [],
   "source": [
    "#Sostituzione con valori fissi o più vicini\n",
    "temp['Temperature_ffill'] = temp['Temperature'].fillna(method='ffill')\n",
    "\n",
    "#In conclusione il metodo migliore per riempire i null è l'interpolazione temporale, che adotta dati più veritieri e adattabili."
   ]
  }
 ],
 "metadata": {
  "kernelspec": {
   "display_name": "Python [conda env:base] *",
   "language": "python",
   "name": "conda-base-py"
  },
  "language_info": {
   "codemirror_mode": {
    "name": "ipython",
    "version": 3
   },
   "file_extension": ".py",
   "mimetype": "text/x-python",
   "name": "python",
   "nbconvert_exporter": "python",
   "pygments_lexer": "ipython3",
   "version": "3.12.7"
  }
 },
 "nbformat": 4,
 "nbformat_minor": 5
}
