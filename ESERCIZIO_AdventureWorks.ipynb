{
 "cells": [
  {
   "cell_type": "code",
   "execution_count": null,
   "id": "7a81517a-fff9-4720-b597-d49ac5cd73b4",
   "metadata": {},
   "outputs": [],
   "source": [
    "!pip install mysql-connector-python SQLAlchemy pandas"
   ]
  },
  {
   "cell_type": "code",
   "execution_count": null,
   "id": "53d3bdce-316a-4463-93f0-0b2a15dbdb56",
   "metadata": {},
   "outputs": [],
   "source": [
    "from sqlalchemy import create_engine\n",
    "import pandas as pd\n",
    "\n",
    "user = 'root'\n",
    "password = 'Grace1999'\n",
    "host = 'localhost'\n",
    "port = '3306'\n",
    "database = 'adventureworksdw2020'\n",
    "\n",
    "engine = create_engine(f\"mysql+mysqlconnector://{user}:{password}@{host}:{port}/{database}\")\n",
    "\n",
    "df = pd.read_sql(\"SELECT * FROM DimProduct\", engine)"
   ]
  },
  {
   "cell_type": "code",
   "execution_count": null,
   "id": "149559b6-364a-49ce-8946-9665255d852c",
   "metadata": {},
   "outputs": [],
   "source": [
    "#Quanti dati ci sono? \n",
    "numero_righe = len(df)\n",
    "print(\"Numero totale di righe:\", numero_righe)\n"
   ]
  },
  {
   "cell_type": "code",
   "execution_count": null,
   "id": "5b2f3b64-f352-4dd7-9dc0-a2c8613776ac",
   "metadata": {},
   "outputs": [],
   "source": [
    "#Valori totali di tutte le celle\n",
    "numero_valori = df.size\n",
    "print(\"Numero totale di valori (celle):\", numero_valori)\n"
   ]
  },
  {
   "cell_type": "code",
   "execution_count": null,
   "id": "24cf9aa9-dc5a-4eb0-9ba3-5d27bf09f546",
   "metadata": {},
   "outputs": [],
   "source": [
    "#Quali sono i metadati?\n",
    "#Nel contesto di un DataFrame pandas, i metadati sono i dati sui dati, cioè informazioni descrittive sulla struttura della tabella.\n",
    "print(\"Colonne:\", df.columns)\n",
    "print(\"Forma (righe, colonne):\", df.shape)\n",
    "print(\"Tipi di dati:\")\n",
    "print(df.dtypes)\n",
    "print(\"Valori mancanti:\")\n",
    "print(df.isnull().sum())\n",
    "print(\"Statistiche numeriche:\")\n",
    "print(df.describe())"
   ]
  },
  {
   "cell_type": "code",
   "execution_count": null,
   "id": "a93d9a7d-4732-47cc-9f76-2948b7774184",
   "metadata": {},
   "outputs": [],
   "source": [
    "#Stampiamo il primo valore esempio di un record intero:\n",
    "print(df.iloc[0])"
   ]
  },
  {
   "cell_type": "code",
   "execution_count": null,
   "id": "ae342371-98e2-4c2c-b99c-75b9bc735713",
   "metadata": {},
   "outputs": [],
   "source": [
    "#Stampiamo il primo valore esempio prima riga e prima colonna:\n",
    "print(df.iloc[0, 0])"
   ]
  },
  {
   "cell_type": "code",
   "execution_count": null,
   "id": "6090b75e-5c3e-4cd5-89d4-82847f47d24e",
   "metadata": {},
   "outputs": [],
   "source": [
    "#Questi sono i comandi per stampare l'ultia riga, come negli esempi precedenti; il primo per la riga intera, il secondo ultimo valore.\n",
    "print(df.iloc[-1])\n",
    "print(df.iloc[-1, -1])"
   ]
  },
  {
   "cell_type": "code",
   "execution_count": null,
   "id": "81349f17-fcf7-494a-b11c-23e42a8e72d8",
   "metadata": {},
   "outputs": [],
   "source": [
    "#Per poter stampare degli elementi a caso, per esempio richiesto 5, si scrive così:\n",
    "print(df.sample(5))"
   ]
  },
  {
   "cell_type": "code",
   "execution_count": null,
   "id": "9d322957-0ef4-4441-9e3e-37184f325bcd",
   "metadata": {},
   "outputs": [],
   "source": [
    "#Quali colori sono disponibili?\n",
    "colori_disponibili = df['Color'].dropna().unique () #prendendo in considerazione la colonna Color\n",
    "print(\"Colori disponibili:\", colori_disponibili)"
   ]
  },
  {
   "cell_type": "code",
   "execution_count": null,
   "id": "363249aa-c33c-4a41-b845-fbd9868475cc",
   "metadata": {},
   "outputs": [],
   "source": [
    "#Codice per calcolare la media del peso\n",
    "media_peso = df['Weight'].mean()\n",
    "print(\"Peso medio dei prodotti:\", media_peso)"
   ]
  },
  {
   "cell_type": "code",
   "execution_count": null,
   "id": "49028912-b0d5-4915-955c-e9c0ee0ce0af",
   "metadata": {},
   "outputs": [],
   "source": [
    "#Per calcolare il più leggero\n",
    "peso_minimo = df['Weight'].min()\n",
    "print(\"Il peso minimo (più leggero):\", peso_minimo)"
   ]
  },
  {
   "cell_type": "code",
   "execution_count": null,
   "id": "0fed7e35-4d32-4baa-98c5-530eab8311f0",
   "metadata": {},
   "outputs": [],
   "source": [
    "#Per il più pesante\n",
    "peso_massimo = df['Weight'].max()\n",
    "print(\"Il peso massimo (più pesante):\", peso_massimo)"
   ]
  },
  {
   "cell_type": "code",
   "execution_count": null,
   "id": "7aaae69d-aa45-4500-8f45-a29f39f676ee",
   "metadata": {},
   "outputs": [],
   "source": [
    "#Prodotti che pesano >100 \n",
    "prodotti_pesanti = df[df['Weight'] > 100]\n",
    "conteggio = len(prodotti_pesanti)\n",
    "print(\"Numero di prodotti con peso maggiore di 100:\", conteggio)"
   ]
  },
  {
   "cell_type": "code",
   "execution_count": null,
   "id": "ce93f94f-9678-477f-80c0-82b753a22c96",
   "metadata": {},
   "outputs": [],
   "source": [
    "#Quanto costano in media i prodotti (colonna DealerPrice)?\n",
    "prezzo_medio = df['DealerPrice'].mean()\n",
    "print(\"Prezzo medio dei prodotti:\", prezzo_medio)"
   ]
  },
  {
   "cell_type": "code",
   "execution_count": null,
   "id": "3ad0c4f3-cb6c-4192-9e60-75eb93849154",
   "metadata": {},
   "outputs": [],
   "source": [
    "#Quartili\n",
    "q1 = df['DealerPrice'].quantile(0.25)\n",
    "q2 = df['DealerPrice'].quantile(0.50)  # Mediana\n",
    "q3 = df['DealerPrice'].quantile(0.75)\n",
    "\n",
    "print(f\"1° quartile (Q1): {q1}\")\n",
    "print(f\"Mediana (Q2): {q2}\")\n",
    "print(f\"3° quartile (Q3): {q3}\")"
   ]
  },
  {
   "cell_type": "code",
   "execution_count": null,
   "id": "5ecc52ec-52f2-47e6-9b9f-911ed2c6ebe3",
   "metadata": {},
   "outputs": [],
   "source": [
    "#Prezzo medio colore Blu\n",
    "prezzo_medio_blu = df[df['Color'] == 'Blue']['DealerPrice'].mean()\n",
    "print(\"Prezzo medio dei prodotti di colore blu:\", prezzo_medio_blu)"
   ]
  },
  {
   "cell_type": "code",
   "execution_count": null,
   "id": "cbba8ae2-4614-4433-b5eb-4b3c8cc18a41",
   "metadata": {},
   "outputs": [],
   "source": [
    "#Prezzo medio rosso e nero\n",
    "colori = ['Red', 'Black']\n",
    "prezzo_medio_rosso_nero = df[df['Color'].isin(colori)]['DealerPrice'].mean()\n",
    "print(\"Prezzo medio dei prodotti di colore rosso o nero:\", prezzo_medio_rosso_nero)"
   ]
  },
  {
   "cell_type": "code",
   "execution_count": null,
   "id": "cfd8813e-cf71-4084-a02e-c67f2cae0d00",
   "metadata": {},
   "outputs": [],
   "source": [
    "#Prezzo medio tg 42 peso oltre 10kg\n",
    "filtro = (df['Size'] == '42') & (df['Weight'] > 10)\n",
    "prezzo_massimo = df.loc[filtro, 'DealerPrice'].max()\n",
    "print(\"Prezzo massimo per prodotti di taglia 42 e peso > 10 Kg:\", prezzo_massimo)"
   ]
  },
  {
   "cell_type": "code",
   "execution_count": null,
   "id": "601c1bea-6ee4-4918-b1d0-134302665552",
   "metadata": {},
   "outputs": [],
   "source": [
    "#Qual è il nome inglese e il costo di produzione (StandardCost) di tutti i prodotti di taglia 42, peso oltre i 10 Kg e colore argento?\n",
    "# Filtra con le tre condizioni\n",
    "filtro = (df['Size'] == '42') & (df['Weight'] > 10) & (df['Color'] == 'Silver')\n",
    "\n",
    "# Seleziona colonne nome inglese e costo di produzione\n",
    "result = df.loc[filtro, ['EnglishProductName', 'StandardCost']]\n",
    "\n",
    "print(result)"
   ]
  },
  {
   "cell_type": "code",
   "execution_count": null,
   "id": "aab8fe19-a239-4d3f-a7cd-a316b333121f",
   "metadata": {},
   "outputs": [],
   "source": [
    "#Visualizziamo lo StandardCost e il DealerPrice degli ultimi 20 elementi del dataset:\n",
    "#quali sono le differenze? C'è un pattern? C'è qualche elemento che non lo segue?\n",
    "\n",
    "#Intanto prendiamo gli ultimi 20 elementi\n",
    "ultimi_20 = df.tail(20)[['StandardCost', 'DealerPrice']]\n",
    "print(ultimi_20)\n",
    "\n",
    "#Calcoliamo la differenza\n",
    "ultimi_20['Differenza'] = ultimi_20['DealerPrice'] - ultimi_20['StandardCost']\n",
    "print(ultimi_20)\n",
    "\n",
    "#Sì, c’è un pattern chiaro: per la maggior parte degli ultimi 20 prodotti, il prezzo di vendita (DealerPrice) è superiore o uguale al costo di produzione (StandardCost).\n",
    "#Tuttavia, ci possono essere uno o più prodotti che non seguono questo schema, cioè con prezzo di vendita inferiore al costo, ma sono probabilmente eccezioni."
   ]
  },
  {
   "cell_type": "code",
   "execution_count": null,
   "id": "fe604ed9-0864-4bbe-ae83-0ea485036720",
   "metadata": {},
   "outputs": [],
   "source": []
  }
 ],
 "metadata": {
  "kernelspec": {
   "display_name": "Python [conda env:base] *",
   "language": "python",
   "name": "conda-base-py"
  },
  "language_info": {
   "codemirror_mode": {
    "name": "ipython",
    "version": 3
   },
   "file_extension": ".py",
   "mimetype": "text/x-python",
   "name": "python",
   "nbconvert_exporter": "python",
   "pygments_lexer": "ipython3",
   "version": "3.12.7"
  }
 },
 "nbformat": 4,
 "nbformat_minor": 5
}
