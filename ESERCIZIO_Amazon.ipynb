{
 "cells": [
  {
   "cell_type": "code",
   "execution_count": null,
   "id": "6c7516b5-99bb-4854-905f-4eaf82c9b41d",
   "metadata": {},
   "outputs": [],
   "source": [
    "import pandas as pd\n",
    "df = pd.read_csv('amazon.csv')\n",
    "\n",
    "# Controlla le prime righe per verificare che l'importazione sia andata a buon fine\n",
    "print(df.head())"
   ]
  },
  {
   "cell_type": "code",
   "execution_count": null,
   "id": "42def255-03d8-40ce-a3a5-abd94167d033",
   "metadata": {},
   "outputs": [],
   "source": [
    "#Dimensione del dataset\n",
    "print(df.shape)"
   ]
  },
  {
   "cell_type": "code",
   "execution_count": null,
   "id": "dfacee5c-ec8e-4ea0-83c7-f0402d7f10bb",
   "metadata": {},
   "outputs": [],
   "source": [
    "#Valutiamo 10 righe a caso\n",
    "print(df.sample(10))"
   ]
  },
  {
   "cell_type": "code",
   "execution_count": null,
   "id": "6c07450a-4ae6-4811-8828-160dc9fae71f",
   "metadata": {},
   "outputs": [],
   "source": [
    "#Quali sono i nomi in colonna\n",
    "print(df.columns)"
   ]
  },
  {
   "cell_type": "code",
   "execution_count": null,
   "id": "cb533f35-3327-4d67-bfcd-99e0e1145ce3",
   "metadata": {},
   "outputs": [],
   "source": [
    "#Bilanciato tra commenti positivi e negativi?\n",
    "print(df['Positive'].value_counts())"
   ]
  },
  {
   "cell_type": "code",
   "execution_count": null,
   "id": "57face70-2420-447e-9ee1-d030f53a4d88",
   "metadata": {},
   "outputs": [],
   "source": [
    "#Dal risultato possiamo notare che sono più commenti positivi a quelli negativi"
   ]
  },
  {
   "cell_type": "code",
   "execution_count": null,
   "id": "d2a63d6e-b928-4a9b-bf13-a8386060b9bd",
   "metadata": {},
   "outputs": [],
   "source": []
  }
 ],
 "metadata": {
  "kernelspec": {
   "display_name": "Python [conda env:base] *",
   "language": "python",
   "name": "conda-base-py"
  },
  "language_info": {
   "codemirror_mode": {
    "name": "ipython",
    "version": 3
   },
   "file_extension": ".py",
   "mimetype": "text/x-python",
   "name": "python",
   "nbconvert_exporter": "python",
   "pygments_lexer": "ipython3",
   "version": "3.12.7"
  }
 },
 "nbformat": 4,
 "nbformat_minor": 5
}
