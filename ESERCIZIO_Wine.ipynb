{
 "cells": [
  {
   "cell_type": "code",
   "execution_count": null,
   "id": "22c1f252-34ad-4c81-9e96-a91073c0028d",
   "metadata": {},
   "outputs": [],
   "source": [
    "import pandas as pd\n",
    "df = pd.read_csv('wine.csv')"
   ]
  },
  {
   "cell_type": "code",
   "execution_count": null,
   "id": "5b41c7a5-8189-499d-9f3a-016932bb4e81",
   "metadata": {},
   "outputs": [],
   "source": [
    "print (df.columns)"
   ]
  },
  {
   "cell_type": "code",
   "execution_count": null,
   "id": "f2377f1f-c100-4371-87fa-910b73a5d135",
   "metadata": {},
   "outputs": [],
   "source": [
    "#Qual è la media di concentrazione alcolica per ogni qualità? \n",
    "media_alcol_per_qualita = df.groupby(\"quality\")[\"alcohol\"].mean()\n",
    "print(media_alcol_per_qualita)\n",
    "#E rispetto alla media totale?\n",
    "media_totale_alcol = df[\"alcohol\"].mean()\n",
    "print(\"Media totale della concentrazione alcolica:\", media_totale_alcol)\n",
    "\n",
    "#Ci sono differenze? Le qualità più alte tendono ad avere un contenuto alcolico superiore alla media."
   ]
  },
  {
   "cell_type": "code",
   "execution_count": null,
   "id": "494a52ac-1b79-4526-84ef-dcabb1249d5e",
   "metadata": {},
   "outputs": [],
   "source": [
    "#C'è differenza nella concentrazione alcolica per vini bianchi e vini rossi?\n",
    "alcol_bianchi = df[df[\"type\"] == \"white\"][\"alcohol\"].mean()\n",
    "alcol_rossi = df[df[\"type\"] == \"red\"][\"alcohol\"].mean()\n",
    "\n",
    "print(f\"Media alcol vini bianchi: {alcol_bianchi:.2f}\")\n",
    "print(f\"Media alcol vini rossi:   {alcol_rossi:.2f}\")\n",
    "\n",
    "#I vini bianchi tendono ad avere una media leggermente più alta di concentrazione alcolica, ma la differenza è modesta."
   ]
  },
  {
   "cell_type": "code",
   "execution_count": null,
   "id": "0ea1763e-40ba-401e-89ab-e7f456b31674",
   "metadata": {},
   "outputs": [],
   "source": [
    "#Rifacendo le analisi dei due punti precedenti ma per il pH, cambia qualcosa?\n",
    "media_ph_per_tipo = df.groupby(\"type\")[\"pH\"].mean()\n",
    "print(media_ph_per_tipo)\n",
    "\n",
    "#per qualità\n",
    "media_ph_per_qualita = df.groupby(\"quality\")[\"pH\"].mean()\n",
    "print(media_ph_per_qualita)\n",
    "\n",
    "#media del totale\n",
    "media_totale_ph = df[\"pH\"].mean()\n",
    "print(\"Media totale del pH:\", media_totale_ph)\n",
    "\n",
    "#Sì, i vini rossi hanno pH medio leggermente più alto dei bianchi (circa +0.2), come confermato dai dataset\n",
    "#Mentre per la qualità non sembrano esserci variazioni significative del pH tra diversi livelli di qualità; i valori sono molto prossimi alla media totale "
   ]
  },
  {
   "cell_type": "code",
   "execution_count": null,
   "id": "b9bf2223-c7d4-4baf-a2b6-e3fd7ddb6689",
   "metadata": {},
   "outputs": [],
   "source": [
    "#E per i solfati?\n",
    "#media solfati per tipo di vino\n",
    "media_solfati_per_tipo = df.groupby(\"type\")[\"sulphates\"].mean()\n",
    "print(media_solfati_per_tipo)\n",
    "\n",
    "#media solfati per qualità del vino\n",
    "media_solfati_per_qualita = df.groupby(\"quality\")[\"sulphates\"].mean()\n",
    "print(media_solfati_per_qualita)\n",
    "\n",
    "#media totale dei solfati \n",
    "media_totale_solfati = df[\"sulphates\"].mean()\n",
    "print(\"Media totale dei solfati:\", media_totale_solfati)\n",
    "\n",
    "#Conclusione s I valori di solfati aumentano spesso con la qualità del vino, specialmente nei rossi.\n",
    "#questa variabile può quindi essere utile per distinguere tipo e qualità di vino, i vini rossi hanno più solfati in media rispetto ai bianchi.\n"
   ]
  }
 ],
 "metadata": {
  "kernelspec": {
   "display_name": "Python [conda env:base] *",
   "language": "python",
   "name": "conda-base-py"
  },
  "language_info": {
   "codemirror_mode": {
    "name": "ipython",
    "version": 3
   },
   "file_extension": ".py",
   "mimetype": "text/x-python",
   "name": "python",
   "nbconvert_exporter": "python",
   "pygments_lexer": "ipython3",
   "version": "3.12.7"
  }
 },
 "nbformat": 4,
 "nbformat_minor": 5
}
