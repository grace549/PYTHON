{
 "cells": [
  {
   "cell_type": "code",
   "execution_count": null,
   "id": "aa0e2f27-c9c4-4fbc-a775-17d02746a06a",
   "metadata": {},
   "outputs": [],
   "source": [
    "import pandas as pd\n",
    "\n",
    "df_pokemon = pd.read_csv('pokemon.csv')\n",
    "print(df_pokemon.head())"
   ]
  },
  {
   "cell_type": "code",
   "execution_count": null,
   "id": "ee6c868a-5fe7-44bc-a66f-a5a4228dd1f3",
   "metadata": {},
   "outputs": [],
   "source": [
    "#Verifichiamo la dimensione, un'anteprima e osserviamo i nomi di colonna;\n",
    "# Dimensioni\n",
    "print(f\"Dimensioni dataset: {df_pokemon.shape}\")\n",
    "\n",
    "# Anteprima prime 5 righe\n",
    "print(\"\\nAnteprima dataset:\")\n",
    "print(df_pokemon.head())\n",
    "\n",
    "# Nomi colonne\n",
    "print(\"\\nNomi delle colonne:\")\n",
    "print(df_pokemon.columns.tolist())"
   ]
  },
  {
   "cell_type": "code",
   "execution_count": null,
   "id": "85918895-0eed-4035-9cf2-cd00b7fa88fb",
   "metadata": {},
   "outputs": [],
   "source": [
    "#È verosimile che la prima colonna dovrebbe essere un indice?\n",
    "#Sì, molto probabile! Nel dataset pokemon.csv spesso la prima colonna è un identificatore univoco come un numero ID o un indice."
   ]
  },
  {
   "cell_type": "code",
   "execution_count": null,
   "id": "d3f666bb-8c5b-49d1-a817-2e385c799765",
   "metadata": {},
   "outputs": [],
   "source": [
    "df_pokemon = pd.read_csv('pokemon.csv', index_col=0)"
   ]
  },
  {
   "cell_type": "code",
   "execution_count": null,
   "id": "138e8d20-1dae-49ec-a2d8-9e224ad31224",
   "metadata": {},
   "outputs": [],
   "source": [
    "import pandas as pd\n",
    "\n",
    "# Carica il dataset\n",
    "df = pd.read_csv('pokemon.csv')\n",
    "\n",
    "# Estrai la prima colonna\n",
    "prima_colonna = df.iloc[:, 0]\n",
    "\n",
    "# Indice automatico di pandas\n",
    "indice_pandas = pd.RangeIndex(start=0, stop=len(df), step=1)\n",
    "\n",
    "# Verifica se la prima colonna è identica all’indice di pandas\n",
    "combacia = prima_colonna.equals(indice_pandas)\n",
    "\n",
    "print(f\"L'indice automatico di pandas combacia con la prima colonna? {combacia}\")\n",
    "\n",
    "# Stampa confronto delle prime 10 righe\n",
    "print(\"\\nPrime 10 righe confronto prima colonna vs indice pandas:\")\n",
    "print(pd.DataFrame({'prima_colonna': prima_colonna.head(10), 'indice_pandas': indice_pandas[:10]}))\n"
   ]
  },
  {
   "cell_type": "code",
   "execution_count": null,
   "id": "94071e52-3218-4fc4-ba1b-65286dd775a2",
   "metadata": {},
   "outputs": [],
   "source": [
    "#Non combaciano in quanto il dataset comincia con 1 mentre pandas comincia automaticamente con 0"
   ]
  },
  {
   "cell_type": "code",
   "execution_count": null,
   "id": "5c11ac6d-0812-42fe-88b3-d786d3492d4c",
   "metadata": {},
   "outputs": [],
   "source": [
    "#Per settare la colonna come indice \n",
    "df = pd.read_csv('pokemon.csv', index_col=0)"
   ]
  },
  {
   "cell_type": "code",
   "execution_count": null,
   "id": "b3f812cc-8003-4ab2-a029-847d8c04322d",
   "metadata": {},
   "outputs": [],
   "source": [
    "#Pokemon leggendari\n",
    "# Filtra i Pokémon leggendari\n",
    "pokemon_leggendari = df[df['Legendary'] == True]\n",
    "\n",
    "# Visualizza i primi leggendari trovati\n",
    "print(pokemon_leggendari)"
   ]
  },
  {
   "cell_type": "code",
   "execution_count": null,
   "id": "dd270bb5-236d-4533-8462-576cb1afde65",
   "metadata": {},
   "outputs": [],
   "source": [
    "#Quali sono i leggendari tipo 1 grass?\n",
    "pokemon_leggendari_grass = df[(df['Legendary'] == True) & (df['Type 1'] == 'Grass')]\n",
    "print(pokemon_leggendari_grass)\n"
   ]
  },
  {
   "cell_type": "code",
   "execution_count": null,
   "id": "3debaa75-7fb5-4fb7-b784-516f4fd868b6",
   "metadata": {},
   "outputs": [],
   "source": [
    "#E leggendari di tipo 1 Ice o Fire?\n",
    "pokemon_leggendari_ice_fire = df[(df['Legendary'] == True) & (df['Type 1'].isin(['Ice', 'Fire']))]\n",
    "print(pokemon_leggendari_ice_fire)"
   ]
  },
  {
   "cell_type": "code",
   "execution_count": null,
   "id": "4c571e72-5334-4778-89f3-8dbc7b70421d",
   "metadata": {},
   "outputs": [],
   "source": [
    "#Trasformare colonna Name\n",
    "df.set_index('Name', inplace=True)\n",
    "\n",
    "#Per vedere il risultato\n",
    "print(df.head())\n",
    "print(df.index)  # Mostra l'indice, ora con i nomi dei Pokémon\n"
   ]
  },
  {
   "cell_type": "code",
   "execution_count": null,
   "id": "df0d6e5e-ce03-4217-92f6-5a5450478bfa",
   "metadata": {},
   "outputs": [],
   "source": [
    "#Quali sono i Pokémon della prima generazione con attacco > 50 e HP < 60?\n",
    "pokemon_filtrati = df[(df['Generation'] == 1) & (df['Attack'] > 50) & (df['HP'] < 60)]\n",
    "print(pokemon_filtrati)"
   ]
  },
  {
   "cell_type": "code",
   "execution_count": null,
   "id": "dd25d682-c3a2-4b13-8399-6ec613e826c9",
   "metadata": {},
   "outputs": [],
   "source": []
  }
 ],
 "metadata": {
  "kernelspec": {
   "display_name": "Python [conda env:base] *",
   "language": "python",
   "name": "conda-base-py"
  },
  "language_info": {
   "codemirror_mode": {
    "name": "ipython",
    "version": 3
   },
   "file_extension": ".py",
   "mimetype": "text/x-python",
   "name": "python",
   "nbconvert_exporter": "python",
   "pygments_lexer": "ipython3",
   "version": "3.12.7"
  }
 },
 "nbformat": 4,
 "nbformat_minor": 5
}
