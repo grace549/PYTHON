{
 "cells": [
  {
   "cell_type": "code",
   "execution_count": null,
   "id": "f4c130ba-2af4-4afe-a628-59bbe59e2d84",
   "metadata": {},
   "outputs": [],
   "source": [
    "import pandas as pd\n",
    "df = pd.read_csv('boston.csv')"
   ]
  },
  {
   "cell_type": "code",
   "execution_count": null,
   "id": "6c539445-bd4c-4acc-80d7-0780bcbc52bf",
   "metadata": {},
   "outputs": [],
   "source": [
    "print (df.columns)"
   ]
  },
  {
   "cell_type": "code",
   "execution_count": null,
   "id": "10a3a8c4-0544-4bdb-8188-d4b840744f11",
   "metadata": {},
   "outputs": [],
   "source": [
    "#Pulisco i dati\n",
    "df.columns = df.columns.str.strip().str.upper()\n",
    "print(df.columns)"
   ]
  },
  {
   "cell_type": "code",
   "execution_count": null,
   "id": "bd690c9b-982c-4499-95ed-0eaae1dbf292",
   "metadata": {},
   "outputs": [],
   "source": [
    "#La media del prezzo delle case cambia a seconda della distanza dal fiume Charles?\n",
    "#In effetti si è particolarmente significativa.\n",
    "\n",
    "#Suddivido i dati in base alla colonna CHAS\n",
    "medv_vicino_fiume = df[df['CHAS'] == 1]['MEDV']\n",
    "medv_lontano_fiume = df[df['CHAS'] == 0]['MEDV']\n",
    "\n",
    "#Calcolo la media dei due gruppi\n",
    "media_vicino = medv_vicino_fiume.mean()\n",
    "media_lontano = medv_lontano_fiume.mean()\n",
    "\n",
    "print(f\"Media MEDV (vicino al fiume): {media_vicino:.2f}\")\n",
    "print(f\"Media MEDV (lontano dal fiume): {media_lontano:.2f}\")\n"
   ]
  },
  {
   "cell_type": "code",
   "execution_count": null,
   "id": "3a5ca5c8-0c68-403a-900d-4272c07b98f0",
   "metadata": {},
   "outputs": [],
   "source": [
    "# Calcola e stampa la correlazione tra CRIM e MEDV\n",
    "#Se la correlazione è negativa (valore vicino a -1 o sotto 0), significa che un aumento della criminalità corrisponde a un calo del valore delle abitazioni.\n",
    "#Questo succede perché zone con più criminalità sono meno richieste, quindi case meno costose.\n",
    "print(\"Correlazione CRIM-MEDV:\", df['CRIM'].corr(df['MEDV']))"
   ]
  },
  {
   "cell_type": "code",
   "execution_count": null,
   "id": "6abdf389-9338-41d3-9b2f-e3e685f8bcb6",
   "metadata": {},
   "outputs": [],
   "source": [
    "#Qual è la media del numero di stanze rispetto al rapporto alunni-insegnanti? \n",
    "#Raggruppo i dati per il valore di PTRATIO e calcola la media di RM per ogni gruppo\n",
    "media_stanze_per_ptratio = df.groupby('PTRATIO')['RM'].mean()\n",
    "\n",
    "print(media_stanze_per_ptratio)"
   ]
  },
  {
   "cell_type": "code",
   "execution_count": null,
   "id": "2a54f55a-463b-4150-aabb-96d534087bb8",
   "metadata": {},
   "outputs": [],
   "source": [
    "#E del valore delle case?\n",
    "media_valore_per_ptratio = df.groupby('PTRATIO')['MEDV'].mean()\n",
    "print(media_valore_per_ptratio)"
   ]
  },
  {
   "cell_type": "code",
   "execution_count": null,
   "id": "8ecd271f-2b86-4180-b446-72239603552b",
   "metadata": {},
   "outputs": [],
   "source": [
    "#Calcolo della correlazione tra PTRATIO e MEDV\n",
    "correlazione = df['PTRATIO'].corr(df['MEDV'])\n",
    "print(f\"Correlazione tra PTRATIO e MEDV: {correlazione:.3f}\")\n",
    "\n",
    "#La correlazione è negativa (ad esempio -0.5), significa che un aumento del rapporto alunni-insegnanti (cioè più studenti per insegnante, segno di classi più grandi o peggiore qualità educativa) è associato a un valore medio delle case più basso."
   ]
  },
  {
   "cell_type": "code",
   "execution_count": null,
   "id": "a945dfe0-6152-4b8c-8912-39f22957264e",
   "metadata": {},
   "outputs": [],
   "source": [
    "#Rispetto all'accessibilità alle autostrade, cambia qualcosa la media delle età delle abitazioni? E del numero di stanze? E delle tasse?\n",
    "# Calcolo delle medie raggruppate per accessibilità alle autostrade (RAD)\n",
    "medie_per_rad = df.groupby('RAD')[['AGE', 'RM', 'TAX']].mean()\n",
    "\n",
    "print(medie_per_rad)"
   ]
  },
  {
   "cell_type": "code",
   "execution_count": null,
   "id": "a2335e50-0c25-40e7-93b8-f4ee46922779",
   "metadata": {},
   "outputs": [],
   "source": []
  }
 ],
 "metadata": {
  "kernelspec": {
   "display_name": "Python [conda env:base] *",
   "language": "python",
   "name": "conda-base-py"
  },
  "language_info": {
   "codemirror_mode": {
    "name": "ipython",
    "version": 3
   },
   "file_extension": ".py",
   "mimetype": "text/x-python",
   "name": "python",
   "nbconvert_exporter": "python",
   "pygments_lexer": "ipython3",
   "version": "3.12.7"
  }
 },
 "nbformat": 4,
 "nbformat_minor": 5
}
