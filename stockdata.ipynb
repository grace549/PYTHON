{
 "cells": [
  {
   "cell_type": "code",
   "execution_count": null,
   "id": "041926c2-eb10-4dff-8367-6fcc2b356476",
   "metadata": {},
   "outputs": [],
   "source": [
    "import pandas as pd\n",
    "import matplotlib.pyplot as plt\n",
    "import seaborn as sns\n",
    "\n",
    "stockdata = pd.read_csv(\"stockdata.csv\")\n",
    "\n",
    "print(stockdata.columns)"
   ]
  },
  {
   "cell_type": "code",
   "execution_count": null,
   "id": "cd0dfcb3-c83b-4947-9c4e-31fb4c08227c",
   "metadata": {},
   "outputs": [],
   "source": [
    "#Converto la colonna 'Date' in formato datetime\n",
    "stockdata['Date'] = pd.to_datetime(stockdata['Date'])"
   ]
  },
  {
   "cell_type": "code",
   "execution_count": null,
   "id": "b9d47c11-478c-4f14-b7ce-06df9024a58d",
   "metadata": {},
   "outputs": [],
   "source": [
    "#Visualizzo l'andamento delle azioni Apple\n",
    "plt.figure(figsize=(12, 6))\n",
    "sns.lineplot(data=stockdata, x='Date', y='AAPL')\n",
    "plt.title(\"Andamento delle azioni Apple (AAPL)\")\n",
    "plt.xlabel(\"Data\")\n",
    "plt.ylabel(\"Prezzo\")\n",
    "plt.grid(True)\n",
    "plt.show()"
   ]
  },
  {
   "cell_type": "code",
   "execution_count": null,
   "id": "95f6b925-765b-4dce-b6c8-e9a7f4d726da",
   "metadata": {},
   "outputs": [],
   "source": [
    "#Lista delle colonne azionarie tutte ma dobbiamo escludere 'Date'\n",
    "stock_columns = [col for col in stockdata.columns if col != 'Date']\n",
    "\n",
    "#Disegno una linea per ciascuna azione\n",
    "for col in stock_columns:\n",
    "    plt.plot(stockdata['Date'], stockdata[col], label=col)\n",
    "\n",
    "plt.title(\"Andamento delle azioni nel tempo\")\n",
    "plt.xlabel(\"Data\")\n",
    "plt.ylabel(\"Prezzo\")\n",
    "plt.legend()\n",
    "plt.tight_layout()\n",
    "plt.show()"
   ]
  },
  {
   "cell_type": "code",
   "execution_count": null,
   "id": "b1ee2498-cbe5-4d84-a609-55c6d88bf5c3",
   "metadata": {},
   "outputs": [],
   "source": [
    "#Filtro solo i dati degli anni 2012 e 2013\n",
    "filtered_data = stockdata[(stockdata['Date'].dt.year >= 2012) & (stockdata['Date'].dt.year <= 2013)]\n",
    "\n",
    "#Visualizzo solo le azioni MSFT e IBM come richiesto\n",
    "plt.figure(figsize=(12, 6))\n",
    "plt.plot(filtered_data['Date'], filtered_data['MSFT'], label='Microsoft (MSFT)', color='blue')\n",
    "plt.plot(filtered_data['Date'], filtered_data['IBM'], label='IBM', color='orange')\n",
    "\n",
    "plt.title(\"Andamento di Microsoft e IBM (2012–2013)\")\n",
    "plt.xlabel(\"Data\")\n",
    "plt.ylabel(\"Prezzo\")\n",
    "plt.legend()\n",
    "plt.grid(True)\n",
    "plt.tight_layout()\n",
    "plt.show()"
   ]
  },
  {
   "cell_type": "code",
   "execution_count": null,
   "id": "f72d57a9-8899-4a89-814b-dc45adbbdb6f",
   "metadata": {},
   "outputs": [],
   "source": [
    "#Rimuove eventuali valori mancanti nella colonna 'MSFT'\n",
    "msft_prices = stockdata['MSFT'].dropna()\n",
    "\n",
    "#Creaìo l'istogramma\n",
    "plt.figure(figsize=(10, 6))\n",
    "plt.hist(msft_prices, bins=30, color='skyblue', edgecolor='black')\n",
    "\n",
    "plt.title(\"Distribuzione dei prezzi delle azioni Microsoft (MSFT)\")\n",
    "plt.xlabel(\"Prezzo\")\n",
    "plt.ylabel(\"Frequenza\")\n",
    "plt.grid(axis='y', alpha=0.75)\n",
    "plt.tight_layout()\n",
    "plt.show()"
   ]
  },
  {
   "cell_type": "code",
   "execution_count": null,
   "id": "97f98735-c449-4c23-af04-897379752421",
   "metadata": {},
   "outputs": [],
   "source": []
  }
 ],
 "metadata": {
  "kernelspec": {
   "display_name": "Python [conda env:base] *",
   "language": "python",
   "name": "conda-base-py"
  },
  "language_info": {
   "codemirror_mode": {
    "name": "ipython",
    "version": 3
   },
   "file_extension": ".py",
   "mimetype": "text/x-python",
   "name": "python",
   "nbconvert_exporter": "python",
   "pygments_lexer": "ipython3",
   "version": "3.12.7"
  }
 },
 "nbformat": 4,
 "nbformat_minor": 5
}
