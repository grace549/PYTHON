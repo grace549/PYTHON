{
 "cells": [
  {
   "cell_type": "code",
   "execution_count": 1,
   "id": "bf2417b9-8ce0-4336-ab28-c9a1e47a335c",
   "metadata": {},
   "outputs": [],
   "source": [
    "import pandas as pd\n",
    "df = pd.read_csv('insurance.csv')"
   ]
  },
  {
   "cell_type": "code",
   "execution_count": 4,
   "id": "10b78c3c-f9b9-40b2-b0ba-d4e54208339f",
   "metadata": {},
   "outputs": [
    {
     "name": "stdout",
     "output_type": "stream",
     "text": [
      "(1338, 7)\n",
      "Index(['age', 'sex', 'bmi', 'children', 'smoker', 'region', 'charges'], dtype='object')\n",
      "     age     sex     bmi  children smoker     region      charges\n",
      "996   39  female  34.100         3     no  southwest   7418.52200\n",
      "63    28  female  25.935         1     no  northwest   4133.64165\n",
      "693   24    male  23.655         0     no  northwest   2352.96845\n",
      "852   46  female  35.530         0    yes  northeast  42111.66470\n",
      "96    54  female  30.800         3     no  southwest  12105.32000\n"
     ]
    }
   ],
   "source": [
    "print (df.shape)\n",
    "print (df.columns)\n",
    "print (df.sample(5))"
   ]
  },
  {
   "cell_type": "code",
   "execution_count": 5,
   "id": "a4aed629-c1ab-4342-82db-2c1f4a1151db",
   "metadata": {},
   "outputs": [
    {
     "name": "stdout",
     "output_type": "stream",
     "text": [
      "region\n",
      "northeast    13406.384516\n",
      "northwest    12417.575374\n",
      "southeast    14735.411438\n",
      "southwest    12346.937377\n",
      "Name: charges, dtype: float64\n"
     ]
    }
   ],
   "source": [
    "#Quali sono le medie di charges rispetto a region? Ci sono differenze significative?\n",
    "media_per_regione = df.groupby(\"region\")[\"charges\"].mean()\n",
    "print(media_per_regione)"
   ]
  },
  {
   "cell_type": "code",
   "execution_count": null,
   "id": "04cefa67-5b3f-4db1-980b-02018972204e",
   "metadata": {},
   "outputs": [],
   "source": [
    "#E rispetto a smoker? E a sex?\n",
    "media_smoker = df.groupby(\"smoker\")[\"charges\"].mean()\n",
    "print(\"Media charges per smoker:\")\n",
    "print(media_smoker)\n",
    "\n",
    "media_sesso = df.groupby(\"sex\")[\"charges\"].mean()\n",
    "print(\"Media charges per sesso:\")\n",
    "print(media_sesso)"
   ]
  },
  {
   "cell_type": "code",
   "execution_count": 6,
   "id": "ac81e537-83fd-4d8d-bc42-cada48cde516",
   "metadata": {},
   "outputs": [
    {
     "name": "stdout",
     "output_type": "stream",
     "text": [
      "count    1338.000000\n",
      "mean       30.663397\n",
      "std         6.098187\n",
      "min        15.960000\n",
      "25%        26.296250\n",
      "50%        30.400000\n",
      "75%        34.693750\n",
      "max        53.130000\n",
      "Name: bmi, dtype: float64\n",
      "                    min          mean          max\n",
      "bmi_quartile                                      \n",
      "Q1            1121.8739  10360.662825  38245.59327\n",
      "Q2            1131.5066  11407.831468  62592.87309\n",
      "Q3            1135.9407  14358.173081  60021.39897\n",
      "Q4            1141.4451  16987.936691  63770.42801\n"
     ]
    },
    {
     "name": "stderr",
     "output_type": "stream",
     "text": [
      "C:\\Users\\doria\\AppData\\Local\\Temp\\ipykernel_3892\\2058878239.py:9: FutureWarning: The default of observed=False is deprecated and will be changed to True in a future version of pandas. Pass observed=False to retain current behavior or observed=True to adopt the future default and silence this warning.\n",
      "  stats_per_quartile = df.groupby(\"bmi_quartile\")[\"charges\"].agg([\"min\", \"mean\", \"max\"])\n"
     ]
    }
   ],
   "source": [
    "#Quali sono i descrittori statistici di bmi? Quali sono minimo, media e massimo di charges rispetto ai diversi quartili dei valori di bmi?\n",
    "descrittori_bmi = df[\"bmi\"].describe()\n",
    "print(descrittori_bmi)\n",
    "\n",
    "# Creo la colonna quartile\n",
    "df[\"bmi_quartile\"] = pd.qcut(df[\"bmi\"], 4, labels=[\"Q1\", \"Q2\", \"Q3\", \"Q4\"])\n",
    "\n",
    "# Calcolo le statistiche sui charges\n",
    "stats_per_quartile = df.groupby(\"bmi_quartile\")[\"charges\"].agg([\"min\", \"mean\", \"max\"])\n",
    "print(stats_per_quartile)\n"
   ]
  },
  {
   "cell_type": "code",
   "execution_count": null,
   "id": "fedd53cf-5b5f-4d4a-95e9-3e4cf8fe0929",
   "metadata": {},
   "outputs": [],
   "source": []
  }
 ],
 "metadata": {
  "kernelspec": {
   "display_name": "Python [conda env:base] *",
   "language": "python",
   "name": "conda-base-py"
  },
  "language_info": {
   "codemirror_mode": {
    "name": "ipython",
    "version": 3
   },
   "file_extension": ".py",
   "mimetype": "text/x-python",
   "name": "python",
   "nbconvert_exporter": "python",
   "pygments_lexer": "ipython3",
   "version": "3.12.7"
  }
 },
 "nbformat": 4,
 "nbformat_minor": 5
}
