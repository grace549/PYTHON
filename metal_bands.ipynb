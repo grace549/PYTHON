{
 "cells": [
  {
   "cell_type": "code",
   "execution_count": null,
   "id": "1865164c-1804-4da4-b012-edb8315874db",
   "metadata": {},
   "outputs": [],
   "source": [
    "import pandas as pd\n",
    "metal_bands = pd.read_csv('metal_bands_2017.csv',encoding='latin1')\n",
    "print(metal_bands.head())"
   ]
  },
  {
   "cell_type": "code",
   "execution_count": null,
   "id": "74626be2-cd17-430f-b61a-495b59bd56a7",
   "metadata": {},
   "outputs": [],
   "source": [
    "import seaborn as sns\n",
    "import matplotlib.pyplot as plt\n",
    "\n",
    "#Imposto lo stile del grafico\n",
    "sns.set(style=\"whitegrid\")\n",
    "\n",
    "#Istogramma del numero dei fan\n",
    "plt.figure(figsize=(10, 6))\n",
    "sns.histplot(metal_bands[\"fans\"], bins=30, kde=False, color=\"purple\")\n",
    "\n",
    "plt.title(\"Distribuzione del numero di fan delle metal band\")\n",
    "plt.xlabel(\"Numero di fan\")\n",
    "plt.ylabel(\"Conteggio delle band\")\n",
    "plt.show()"
   ]
  },
  {
   "cell_type": "code",
   "execution_count": null,
   "id": "18176da7-eb7e-4d8a-80dd-1d0387b04d27",
   "metadata": {},
   "outputs": [],
   "source": [
    "#Distribuzione fortemente sbilanciata: solo poche band sono estremamente popolari (es. Metallica, Iron Maiden).\n",
    "#Lunga coda di band meno conosciute: la maggior parte delle band ha un numero relativamente basso di fan."
   ]
  },
  {
   "cell_type": "code",
   "execution_count": null,
   "id": "b36d83fb-c3d6-4e78-b926-62cf209fba8e",
   "metadata": {},
   "outputs": [],
   "source": [
    "#Innanzitutto filtro le band che contengono sia \"Progressive\" che \"Thrash\" nello stile\n",
    "sound_style = (metal_bands.loc[:, \"style\"].str.contains(\"Progressive\", case=False, na=False)) & \\\n",
    "       (metal_bands.loc[:, \"style\"].str.contains(\"Thrash\", case=False, na=False))\n",
    "\n",
    "#Applico il filtro\n",
    "prog_thrash_bands = metal_bands[sound_style]"
   ]
  },
  {
   "cell_type": "code",
   "execution_count": null,
   "id": "8947bc94-aae0-4c30-89d6-357b238c6e25",
   "metadata": {},
   "outputs": [],
   "source": [
    "#Raggruppo per paese e sommo i fan\n",
    "fans_by_country = prog_thrash_bands.groupby(\"origin\")[\"fans\"].sum().sort_values(ascending=False)"
   ]
  },
  {
   "cell_type": "code",
   "execution_count": null,
   "id": "be129093-4a5c-4e31-a2a7-e9a9d40dc390",
   "metadata": {},
   "outputs": [],
   "source": [
    "import seaborn as sns\n",
    "import matplotlib.pyplot as plt\n",
    "\n",
    "#Reset index per facilitare la visualizzazione\n",
    "fans_by_country = fans_by_country.reset_index()\n",
    "\n",
    "#Plot\n",
    "plt.figure(figsize=(12, 6))\n",
    "sns.barplot(data=fans_by_country, x=\"origin\", y=\"fans\")\n",
    "\n",
    "plt.title(\"Numero totale di fan per paese (band Progressive + Thrash)\")\n",
    "plt.xlabel(\"Paese di origine\")\n",
    "plt.ylabel(\"Numero di fan\")\n",
    "plt.xticks(rotation=45)\n",
    "plt.tight_layout()\n",
    "plt.show()"
   ]
  },
  {
   "cell_type": "code",
   "execution_count": null,
   "id": "cc11262e-82e6-4b01-9ad6-c91861b1048e",
   "metadata": {},
   "outputs": [],
   "source": [
    "#Converto la colonna in formato numerico\n",
    "metal_bands[\"formed\"] = pd.to_numeric(metal_bands[\"formed\"], errors='coerce')"
   ]
  },
  {
   "cell_type": "code",
   "execution_count": null,
   "id": "bcc9dee4-4dcf-45f6-b2db-ef59c01fca85",
   "metadata": {},
   "outputs": [],
   "source": [
    "import seaborn as sns\n",
    "import matplotlib.pyplot as plt\n",
    "\n",
    "plt.figure(figsize=(12, 6))\n",
    "sns.histplot(metal_bands[\"formed\"].dropna(), bins=30, color=\"steelblue\")\n",
    "\n",
    "plt.title(\"Istogramma degli anni di formazione delle band metal\")\n",
    "plt.xlabel(\"Anno di formazione\")\n",
    "plt.ylabel(\"Numero di band\")\n",
    "plt.show()\n"
   ]
  },
  {
   "cell_type": "code",
   "execution_count": null,
   "id": "2b5997ae-d630-41dc-8685-aad06951d043",
   "metadata": {},
   "outputs": [],
   "source": [
    "#Picchi in certi decenni, ad esempio:\n",
    "#Anni '80: esplosione del metal classico e thrash\n",
    "#Anni '90: nuovi sottogeneri e band progressive\n",
    "#Anni 2000+: espansione delle band più moderne e alternative\n",
    "#Eventuali cali o crescite in certe epoche, che mostrano la popolarità del genere nel tempo."
   ]
  }
 ],
 "metadata": {
  "kernelspec": {
   "display_name": "Python [conda env:base] *",
   "language": "python",
   "name": "conda-base-py"
  },
  "language_info": {
   "codemirror_mode": {
    "name": "ipython",
    "version": 3
   },
   "file_extension": ".py",
   "mimetype": "text/x-python",
   "name": "python",
   "nbconvert_exporter": "python",
   "pygments_lexer": "ipython3",
   "version": "3.12.7"
  }
 },
 "nbformat": 4,
 "nbformat_minor": 5
}
