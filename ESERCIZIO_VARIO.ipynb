{
 "cells": [
  {
   "cell_type": "code",
   "execution_count": null,
   "id": "55ccfac9-6358-433e-ad00-f785471cb306",
   "metadata": {},
   "outputs": [],
   "source": [
    "import numpy as np\n",
    "import pandas as pd\n",
    "years = 5 \n",
    "\n",
    "guadagni = pd.DataFrame({\n",
    "    \"Mese\": list(\"GFMAMGLASOND\"*years), \n",
    "    \"Anno\": np.repeat(list(range(years)), 12), \n",
    "    \"Valore\": np.random.randint(800, 5000, 12*years)\n",
    "})"
   ]
  },
  {
   "cell_type": "code",
   "execution_count": null,
   "id": "d0e30f27-ebad-4b4c-9821-92b04fc01e86",
   "metadata": {},
   "outputs": [],
   "source": [
    "guadagni['GuadagnoCumulativo'] = guadagni['Valore'].cumsum()\n",
    "\n",
    "print(guadagni.head(12))"
   ]
  },
  {
   "cell_type": "code",
   "execution_count": null,
   "id": "c108dd94-8d76-41c7-ba6b-76a611a6ff8a",
   "metadata": {},
   "outputs": [],
   "source": [
    "guadagni['GuadagnoCumulativoPerAnno'] = guadagni.groupby('Anno')['Valore'].cumsum()\n",
    "\n",
    "print(guadagni.head(20))"
   ]
  },
  {
   "cell_type": "code",
   "execution_count": null,
   "id": "fe2823d2-bcfc-4e59-9942-fe1adae14908",
   "metadata": {},
   "outputs": [],
   "source": []
  }
 ],
 "metadata": {
  "kernelspec": {
   "display_name": "Python [conda env:base] *",
   "language": "python",
   "name": "conda-base-py"
  },
  "language_info": {
   "codemirror_mode": {
    "name": "ipython",
    "version": 3
   },
   "file_extension": ".py",
   "mimetype": "text/x-python",
   "name": "python",
   "nbconvert_exporter": "python",
   "pygments_lexer": "ipython3",
   "version": "3.12.7"
  }
 },
 "nbformat": 4,
 "nbformat_minor": 5
}
