{
 "cells": [
  {
   "cell_type": "code",
   "execution_count": null,
   "id": "9600829e-bba1-4cec-a678-80dff6c57fcf",
   "metadata": {},
   "outputs": [],
   "source": [
    "import os\n",
    "import pandas as pd"
   ]
  },
  {
   "cell_type": "code",
   "execution_count": null,
   "id": "7688f27f-5533-4331-afc0-b252533b1568",
   "metadata": {},
   "outputs": [],
   "source": [
    "folder_path = \"C:/Users/doria/OneDrive/Desktop/EPICODE/PYTHON/datasets/datasets/beginner_datasets\"\n",
    "\n",
    "\n",
    "files = os.listdir(folder_path)\n",
    "\n",
    "datasets_con_null = []\n",
    "\n",
    "for file in files:\n",
    "    if file.endswith('.csv'):\n",
    "        df = pd.read_csv(os.path.join(folder_path, file))\n",
    "        if df.isnull().values.any():\n",
    "            datasets_con_null.append(file)\n",
    "\n",
    "print(\"Dataset con dati nulli:\")\n",
    "for dataset in datasets_con_null:\n",
    "    print(dataset)\n"
   ]
  },
  {
   "cell_type": "code",
   "execution_count": null,
   "id": "8c15a135-0caa-420e-81d5-47afb2c6f68e",
   "metadata": {},
   "outputs": [],
   "source": []
  }
 ],
 "metadata": {
  "kernelspec": {
   "display_name": "Python [conda env:base] *",
   "language": "python",
   "name": "conda-base-py"
  },
  "language_info": {
   "codemirror_mode": {
    "name": "ipython",
    "version": 3
   },
   "file_extension": ".py",
   "mimetype": "text/x-python",
   "name": "python",
   "nbconvert_exporter": "python",
   "pygments_lexer": "ipython3",
   "version": "3.12.7"
  }
 },
 "nbformat": 4,
 "nbformat_minor": 5
}
