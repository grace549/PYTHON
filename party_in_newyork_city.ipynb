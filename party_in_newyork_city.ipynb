{
 "cells": [
  {
   "cell_type": "code",
   "execution_count": null,
   "id": "e8f0019e-0775-407b-aeb6-1a8c6beb5aa4",
   "metadata": {},
   "outputs": [],
   "source": [
    "import pandas as pd\n",
    "party = pd.read_csv(\"party_in_nyc.csv\")\n",
    "\n",
    "print(party.head())"
   ]
  },
  {
   "cell_type": "code",
   "execution_count": null,
   "id": "47a38bad-2fc7-42ea-9959-e74d4619279a",
   "metadata": {
    "scrolled": true
   },
   "outputs": [],
   "source": [
    "print(party.columns)"
   ]
  },
  {
   "cell_type": "code",
   "execution_count": null,
   "id": "c06724fe-a35e-494e-afc0-0114df9ae86e",
   "metadata": {},
   "outputs": [],
   "source": [
    "import seaborn as sns\n",
    "import matplotlib.pyplot as plt\n",
    "\n",
    "#Conto quante chiamate per ogni città\n",
    "calls_by_city = party.groupby(\"City\").size().reset_index(name='Calls')\n",
    "\n",
    "#Ordino per numero di chiamate (opzionale)\n",
    "calls_by_city = calls_by_city.sort_values(by='Calls', ascending=False)\n",
    "\n",
    "#Grafico a barre\n",
    "plt.figure(figsize=(12,6))\n",
    "sns.barplot(data=calls_by_city, x=\"City\", y=\"Calls\")\n",
    "\n",
    "plt.title(\"Numero totale di chiamate per città (tutti i tipi di locale)\")\n",
    "plt.xlabel(\"Città\")\n",
    "plt.ylabel(\"Numero di chiamate\")\n",
    "plt.xticks(rotation=45)\n",
    "plt.tight_layout()\n",
    "plt.show()\n"
   ]
  },
  {
   "cell_type": "code",
   "execution_count": null,
   "id": "7d4a54a3-e8dc-43a9-bc89-84aa727e8750",
   "metadata": {},
   "outputs": [],
   "source": [
    "lat_min = party[\"Latitude\"].min()\n",
    "lat_max = party[\"Latitude\"].max()\n",
    "lon_min = party[\"Longitude\"].min()\n",
    "lon_max = party[\"Longitude\"].max()\n",
    "\n",
    "print(f\"Latitudine: da {lat_min} a {lat_max}\")\n",
    "print(f\"Longitudine: da {lon_min} a {lon_max}\")"
   ]
  },
  {
   "cell_type": "code",
   "execution_count": null,
   "id": "d0266145-6d18-4a03-becb-aad928b7ccd3",
   "metadata": {},
   "outputs": [],
   "source": [
    "count_private = party[party[\"Location Type\"] == \"Residential Building/House\"].shape[0]\n",
    "\n",
    "print(f\"Segnalazioni per case private: {count_private}\")"
   ]
  },
  {
   "cell_type": "code",
   "execution_count": null,
   "id": "11e53574-f769-4799-95e2-ecab3f65b1a3",
   "metadata": {},
   "outputs": [],
   "source": [
    "import seaborn as sns\n",
    "import matplotlib.pyplot as plt\n",
    "\n",
    "plt.figure(figsize=(10,6))\n",
    "sns.countplot(data=party, x=\"Borough\")\n",
    "plt.title(\"Numero di segnalazioni per quartiere\")\n",
    "plt.xlabel(\"Quartiere\")\n",
    "plt.ylabel(\"Conteggio segnalazioni\")\n",
    "plt.show()"
   ]
  },
  {
   "cell_type": "code",
   "execution_count": null,
   "id": "3f7dc13b-4a8e-4062-9a79-abfd3a4cb2ae",
   "metadata": {},
   "outputs": [],
   "source": [
    "#Aggiungo hue= location type\n",
    "plt.figure(figsize=(12,7))\n",
    "sns.countplot(data=party, x=\"Borough\", hue=\"Location Type\")\n",
    "plt.title(\"Segnalazioni per quartiere divise per tipo di locale\")\n",
    "plt.xlabel(\"Quartiere\")\n",
    "plt.ylabel(\"Conteggio segnalazioni\")\n",
    "plt.legend(title=\"Tipo di locale\", bbox_to_anchor=(1.05, 1), loc='upper left')\n",
    "plt.xticks(rotation=45)\n",
    "plt.tight_layout()\n",
    "plt.show()"
   ]
  },
  {
   "cell_type": "code",
   "execution_count": null,
   "id": "8dc3ceea-f97b-4c65-b2f5-487bed7d5b23",
   "metadata": {},
   "outputs": [],
   "source": [
    "#Il grafico si suddivide in barre colorate per ogni tipo di locale all’interno di ogni quartiere.\n",
    "#In questo modo si può vedere non solo quanti eventi ci sono in ogni quartiere, ma anche la distribuzione delle segnalazioni per tipo di locale.\n",
    "#Permette di capire ad esempio se un quartiere ha più segnalazioni per “Club/Bar/Restaurant” rispetto a “Residential Building/House” o altri."
   ]
  }
 ],
 "metadata": {
  "kernelspec": {
   "display_name": "Python [conda env:base] *",
   "language": "python",
   "name": "conda-base-py"
  },
  "language_info": {
   "codemirror_mode": {
    "name": "ipython",
    "version": 3
   },
   "file_extension": ".py",
   "mimetype": "text/x-python",
   "name": "python",
   "nbconvert_exporter": "python",
   "pygments_lexer": "ipython3",
   "version": "3.12.7"
  }
 },
 "nbformat": 4,
 "nbformat_minor": 5
}
