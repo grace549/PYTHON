{
 "cells": [
  {
   "cell_type": "code",
   "execution_count": null,
   "id": "73edc858-3e21-46df-9235-e0428177359e",
   "metadata": {},
   "outputs": [],
   "source": [
    "import pandas as pd\n",
    "df = pd.read_csv(\"Mappa-dei-pub-circoli-locali-in-Italia.csv\", encoding=\"latin1\", sep=\";\")"
   ]
  },
  {
   "cell_type": "code",
   "execution_count": null,
   "id": "c319e963-468b-4cef-8236-5e35e1f32463",
   "metadata": {},
   "outputs": [],
   "source": [
    "df.sample(n=5)"
   ]
  },
  {
   "cell_type": "code",
   "execution_count": null,
   "id": "79c9190a-3333-4060-a27f-3467b7b4f883",
   "metadata": {},
   "outputs": [],
   "source": [
    "#Quanti dati ci sono nel dataset? Utilizzo il comando shape che mi resistuirà il numero di colonne e numero di attributi.\n",
    "\n",
    "print (df.shape)"
   ]
  },
  {
   "cell_type": "code",
   "execution_count": null,
   "id": "f71449c9-e861-41e8-a405-27c68bafe293",
   "metadata": {},
   "outputs": [],
   "source": [
    "#Quali sono i metadati? Nome colonne, tipo di dato.\n",
    "print (df.columns)\n",
    "\n",
    "print(df.dtypes)"
   ]
  },
  {
   "cell_type": "code",
   "execution_count": null,
   "id": "0c5b17a3-d6a6-4f0b-9246-bd5bfcbae94b",
   "metadata": {},
   "outputs": [],
   "source": [
    "df.sample(n=3)"
   ]
  },
  {
   "cell_type": "code",
   "execution_count": null,
   "id": "c23cdf3b-657b-496f-b713-80273d0ad6b9",
   "metadata": {},
   "outputs": [],
   "source": [
    "#Stampiamo il primo elemento come prima riga\n",
    "print (df.iloc[0])"
   ]
  },
  {
   "cell_type": "code",
   "execution_count": null,
   "id": "ac21ca5d-70b4-4c1b-9e46-f7500a2e90d9",
   "metadata": {},
   "outputs": [],
   "source": [
    "#Inteso primo elemento come prima casella\n",
    "print(df.iat[0, 0])"
   ]
  },
  {
   "cell_type": "code",
   "execution_count": null,
   "id": "f4fd8210-32ae-4c87-bec0-8244791e7ae1",
   "metadata": {},
   "outputs": [],
   "source": [
    "#Stampiamo l'ultimo elemento come riga\n",
    "print (df.iloc[-1])"
   ]
  },
  {
   "cell_type": "code",
   "execution_count": null,
   "id": "cfc268f4-c13a-4c6a-9de5-cd14d53571df",
   "metadata": {},
   "outputs": [],
   "source": [
    "#Stampare un elemento a caso \n",
    "print (df.sample(1))"
   ]
  },
  {
   "cell_type": "code",
   "execution_count": null,
   "id": "f059cb3a-83ea-4e57-851c-624b58c815e3",
   "metadata": {},
   "outputs": [],
   "source": [
    "#Quali sono gli anni di inserimento presenti?\n",
    "print(df[\"Anno inserimento\"].unique())"
   ]
  },
  {
   "cell_type": "code",
   "execution_count": null,
   "id": "5ac2573f-bee3-4cdf-adb1-c5d20713a73b",
   "metadata": {},
   "outputs": [],
   "source": [
    "#Quante attività ci sono nel quadrato di longitudine 9-10 e latitudine 45-46?\n",
    "maschera = (df[\"Longitudine\"] >= 9) & (df[\"Longitudine\"] <= 10) & \\\n",
    "           (df[\"Latitudine\"] >= 45) & (df[\"Latitudine\"] <= 46)\n",
    "\n",
    "conteggio = df[maschera].shape[0]\n",
    "print(\"Numero di attività nel quadrato 9°–10° E, 45°–46° N:\", conteggio)"
   ]
  },
  {
   "cell_type": "code",
   "execution_count": null,
   "id": "fb52f8a4-ef8b-4154-9d32-aa149acddee4",
   "metadata": {},
   "outputs": [],
   "source": [
    "#Quante attività ci sono nella provincia di Vicenza?\n",
    "conteggio = (df[\"Provincia\"] == \"Vicenza\").sum()\n",
    "print(\"Numero di attività nella provincia di Vicenza:\", conteggio)"
   ]
  },
  {
   "cell_type": "code",
   "execution_count": null,
   "id": "9a47dd9f-8705-47f0-bfd3-822dc55cdb95",
   "metadata": {},
   "outputs": [],
   "source": [
    "#Quante enoteche ci sono, e come si chiamano? Non avendo la colonna con il tipo di bar scritto supponiamo che lo abbiano nel nome\n",
    "enoteche = df[\"Nome\"].str.contains(\"enoteca\", case=False, na=False)\n",
    "\n",
    "num_enoteche = enoteche.sum()\n",
    "print(f\"Numero di enoteche trovate: {num_enoteche}\")\n",
    "\n",
    "nomi_enoteche = df.loc[enoteche, \"Nome\"].unique()\n",
    "print(\"Nomi delle enoteche:\")\n",
    "for nome in nomi_enoteche:\n",
    "    print(\"-\", nome)\n"
   ]
  },
  {
   "cell_type": "code",
   "execution_count": null,
   "id": "7ad4eef3-d823-46c2-aadd-e82f0cc83d15",
   "metadata": {},
   "outputs": [],
   "source": [
    "#Quante attività ci sono in Abruzzo e Lazio assieme?\n",
    "attivita = df[\"Regione\"].isin([\"Lazio\", \"Abruzzo\"])\n",
    "conteggio = attivita.sum()\n",
    "print(\"Numero di attività in Lazio e Abruzzo:\", conteggio)"
   ]
  },
  {
   "cell_type": "code",
   "execution_count": null,
   "id": "e4d54f8b-8081-46d5-b846-974578f8f3d1",
   "metadata": {},
   "outputs": [],
   "source": []
  }
 ],
 "metadata": {
  "kernelspec": {
   "display_name": "Python [conda env:base] *",
   "language": "python",
   "name": "conda-base-py"
  },
  "language_info": {
   "codemirror_mode": {
    "name": "ipython",
    "version": 3
   },
   "file_extension": ".py",
   "mimetype": "text/x-python",
   "name": "python",
   "nbconvert_exporter": "python",
   "pygments_lexer": "ipython3",
   "version": "3.12.7"
  }
 },
 "nbformat": 4,
 "nbformat_minor": 5
}
