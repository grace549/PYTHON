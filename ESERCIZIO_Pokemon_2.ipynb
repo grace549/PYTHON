{
 "cells": [
  {
   "cell_type": "code",
   "execution_count": null,
   "id": "0465fa11-975e-46f7-a67b-893c984a512c",
   "metadata": {},
   "outputs": [],
   "source": [
    "import pandas as pd\n",
    "df_pokemon = pd.read_csv('pokemon.csv')"
   ]
  },
  {
   "cell_type": "code",
   "execution_count": null,
   "id": "083fc498-51ce-4d2a-8978-84bfd8551da9",
   "metadata": {},
   "outputs": [],
   "source": [
    "#Controllo valori nulli in ogni colonna\n",
    "valori_nulli = df_pokemon.isnull().sum()\n",
    "\n",
    "#Visualizza solo le colonne con almeno 1 valore nullo\n",
    "print(valori_nulli[valori_nulli > 0])\n",
    "\n",
    "#si ci sono 386 valori nulli. \n",
    "#Nelle colonne categoriali la soluzione comune è sostituire i nulli con \"None\" o \"Nessuno\".\n",
    "#Nelle colonne con cifre è comune sostituire i valori con una media, una mediana o una moda.\n",
    "#Nelle colonne descrittive o testuali è comune sostituire con per esempio una stringa \"sconosciuto\""
   ]
  },
  {
   "cell_type": "code",
   "execution_count": null,
   "id": "bf0fe8b3-e5ce-49f1-92f0-74c89c469011",
   "metadata": {},
   "outputs": [],
   "source": [
    "#Eliminiamo i null.\n",
    "df_pokemon_clean = df_pokemon.dropna()0."
   ]
  }
 ],
 "metadata": {
  "kernelspec": {
   "display_name": "Python [conda env:base] *",
   "language": "python",
   "name": "conda-base-py"
  },
  "language_info": {
   "codemirror_mode": {
    "name": "ipython",
    "version": 3
   },
   "file_extension": ".py",
   "mimetype": "text/x-python",
   "name": "python",
   "nbconvert_exporter": "python",
   "pygments_lexer": "ipython3",
   "version": "3.12.7"
  }
 },
 "nbformat": 4,
 "nbformat_minor": 5
}
