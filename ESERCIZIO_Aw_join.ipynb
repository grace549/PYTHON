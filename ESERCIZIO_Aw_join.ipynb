{
 "cells": [
  {
   "cell_type": "code",
   "execution_count": null,
   "id": "8f825514-9e0e-4f36-897b-09674e188920",
   "metadata": {},
   "outputs": [],
   "source": [
    "!pip install mysql-connector-python SQLAlchemy pandas"
   ]
  },
  {
   "cell_type": "code",
   "execution_count": null,
   "id": "1fb4d891-bfa5-4c30-be4c-8ae029ad6666",
   "metadata": {},
   "outputs": [],
   "source": [
    "from sqlalchemy import create_engine\n",
    "import pandas as pd\n",
    "\n",
    "user = 'root'\n",
    "password = 'Grace1999'\n",
    "host = 'localhost'\n",
    "port = '3306'\n",
    "database = 'adventureworksdw2020'\n",
    "\n",
    "engine = create_engine(f\"mysql+mysqlconnector://{user}:{password}@{host}:{port}/{database}\")\n",
    "\n",
    "df_employee = pd.read_sql(\"SELECT * FROM dimemployee\", engine)\n",
    "df_sales_territory = pd.read_sql(\"SELECT * FROM dimemployeesalesterritory\", engine)\n",
    "\n",
    "print(df_employee.head())\n",
    "print(df_sales_territory.head())\n"
   ]
  },
  {
   "cell_type": "code",
   "execution_count": null,
   "id": "d8bb8dfc-2521-4f1b-bd73-1a1b671e9c4a",
   "metadata": {},
   "outputs": [],
   "source": [
    "# Join tra i due DataFrame sulla colonna EmployeeKey\n",
    "df_joined = pd.merge(df_employee, df_sales_territory, on='EmployeeKey', how='left')\n",
    "\n",
    "print(df_joined.head())"
   ]
  },
  {
   "cell_type": "code",
   "execution_count": null,
   "id": "edbd3b11-0cff-40f4-8a0c-f39f9ac0e114",
   "metadata": {},
   "outputs": [],
   "source": [
    "df_sales_territory_info = pd.read_sql(\"SELECT * FROM dimsalesterritory\", engine)"
   ]
  },
  {
   "cell_type": "code",
   "execution_count": null,
   "id": "a4b2111c-a767-451b-b86b-4688684c98d2",
   "metadata": {},
   "outputs": [],
   "source": [
    "df_final = pd.merge(df_joined, df_sales_territory_info, on='SalesTerritoryKey', how='inner')\n",
    "print(df_final.head())\n"
   ]
  },
  {
   "cell_type": "code",
   "execution_count": null,
   "id": "726a45d3-2388-46aa-b7c5-df9e48989a68",
   "metadata": {},
   "outputs": [],
   "source": [
    "#Conteggio dipendenti per paese\n",
    "dipendenti_per_paese = vendite_complete.groupby(\"SalesTerritoryCountry\")[\"FirstName\"].count()\n",
    "dipendenti_per_paese"
   ]
  },
  {
   "cell_type": "code",
   "execution_count": null,
   "id": "79ba1391-9b1e-41cc-8f76-2e8c17381484",
   "metadata": {},
   "outputs": [],
   "source": [
    "dipendenti_per_regione = vendite_complete.groupby(\"SalesTerritoryRegion\")[\"FirstName\"].count()dipendenti_per_regione"
   ]
  },
  {
   "cell_type": "code",
   "execution_count": null,
   "id": "fd29a46a-8ae6-4bd6-a4b1-b72832164525",
   "metadata": {},
   "outputs": [],
   "source": [
    "#Baserate\n",
    "# Calcola la media di BaseRate per ogni paese\n",
    "mean_base_rate_by_country = df_final.groupby('CountryRegionName')['BaseRate'].mean().reset_index()\n",
    "\n",
    "# Ordina per media BaseRate (opzionale, per visualizzare meglio)\n",
    "mean_base_rate_by_country = mean_base_rate_by_country.sort_values(by='BaseRate', ascending=False)\n",
    "\n",
    "print(mean_base_rate_by_country)"
   ]
  },
  {
   "cell_type": "code",
   "execution_count": null,
   "id": "5f356798-ab01-4439-8b46-95443e36f7b4",
   "metadata": {},
   "outputs": [],
   "source": []
  }
 ],
 "metadata": {
  "kernelspec": {
   "display_name": "Python [conda env:base] *",
   "language": "python",
   "name": "conda-base-py"
  },
  "language_info": {
   "codemirror_mode": {
    "name": "ipython",
    "version": 3
   },
   "file_extension": ".py",
   "mimetype": "text/x-python",
   "name": "python",
   "nbconvert_exporter": "python",
   "pygments_lexer": "ipython3",
   "version": "3.12.7"
  }
 },
 "nbformat": 4,
 "nbformat_minor": 5
}
