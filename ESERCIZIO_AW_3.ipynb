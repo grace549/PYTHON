{
 "cells": [
  {
   "cell_type": "code",
   "execution_count": null,
   "id": "a366636d-ccee-44c1-925d-1b10b16d598d",
   "metadata": {},
   "outputs": [],
   "source": [
    "from sqlalchemy import create_engine\n",
    "import pandas as pd\n",
    "\n",
    "user = 'root'\n",
    "password = 'Grace1999'\n",
    "host = 'localhost'\n",
    "port = '3306'\n",
    "database = 'adventureworksdw2020'\n",
    "\n",
    "engine = create_engine(f\"mysql+mysqlconnector://{user}:{password}@{host}:{port}/{database}\")\n",
    "\n",
    "df_product = pd.read_sql(\"SELECT * FROM DimProduct\", engine)"
   ]
  },
  {
   "cell_type": "code",
   "execution_count": null,
   "id": "dd2e857f-45be-487f-bfb8-a9bfb63ba091",
   "metadata": {},
   "outputs": [],
   "source": [
    "\n",
    "print(df_product.columns)"
   ]
  },
  {
   "cell_type": "code",
   "execution_count": null,
   "id": "db614f4b-2798-426a-9ce0-e16c59bbc0cf",
   "metadata": {},
   "outputs": [],
   "source": [
    "# Arrotondamento con NaN gestiti\n",
    "df_product['DealerPrice_2dec'] = df_product['DealerPrice'].round(2)\n",
    "df_product['DealerPrice_rounded'] = df_product['DealerPrice'].fillna(0).round(0).astype(int)\n",
    "\n",
    "print(df_product[['DealerPrice', 'DealerPrice_2dec', 'DealerPrice_rounded']].head(10))"
   ]
  },
  {
   "cell_type": "code",
   "execution_count": null,
   "id": "1aa59fc6-892a-43b4-ae96-c8ec95a9b596",
   "metadata": {},
   "outputs": [],
   "source": [
    "print(df_product['DealerPrice'].head(30))\n"
   ]
  },
  {
   "cell_type": "code",
   "execution_count": null,
   "id": "996a8d87-ab3d-41ad-bd63-a59a07551b0a",
   "metadata": {},
   "outputs": [],
   "source": [
    "#Applico il clip: minimo 0, massimo 1000\n",
    "df_product['DealerPrice_clipped'] = df_product['DealerPrice'].clip(lower=0, upper=1000)\n",
    "\n",
    "#Visualizzo le prime 10 righe per confronto\n",
    "print(df_product[['DealerPrice', 'DealerPrice_clipped']].head(10))"
   ]
  },
  {
   "cell_type": "code",
   "execution_count": null,
   "id": "b1c9f0fc-62e7-4026-ac50-cdbde5b7ead8",
   "metadata": {},
   "outputs": [],
   "source": []
  }
 ],
 "metadata": {
  "kernelspec": {
   "display_name": "Python [conda env:base] *",
   "language": "python",
   "name": "conda-base-py"
  },
  "language_info": {
   "codemirror_mode": {
    "name": "ipython",
    "version": 3
   },
   "file_extension": ".py",
   "mimetype": "text/x-python",
   "name": "python",
   "nbconvert_exporter": "python",
   "pygments_lexer": "ipython3",
   "version": "3.12.7"
  }
 },
 "nbformat": 4,
 "nbformat_minor": 5
}
