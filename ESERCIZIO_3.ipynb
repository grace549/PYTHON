{
 "cells": [
  {
   "cell_type": "code",
   "execution_count": 1,
   "id": "b6239106-72aa-463c-93b0-578ddb4431a1",
   "metadata": {},
   "outputs": [],
   "source": [
    "#Abbiamo una lista di liste: mat = [[0, 1, 2, 3, 4], [5, 6, 7, 8, 9], [10, 11, 12, 13, 14]] \n",
    "#Che tipo di struttura dati o matematica potrebbe rappresentare? Notare che tutte le liste \"interne\" sono della stessa dimensione \n",
    "#Come facciamo per accedere ad un elemento in particolare?\n",
    "\n",
    "#La struttura \"mat\" è una lista di liste,e può essere vista come una matrice come 3 righe e 5 colonne.\n",
    "#Per accedere ad un elemento in particolare si possono utilizzare degli indici, ad esempio mat[0][4] \n",
    "\n",
    "mat = [[0, 1, 2, 3, 4], [5, 6, 7, 8, 9], [10, 11, 12, 13, 14]]\n"
   ]
  },
  {
   "cell_type": "code",
   "execution_count": 2,
   "id": "811c348a-ed76-4bb1-82fc-2b6d0f14320a",
   "metadata": {},
   "outputs": [
    {
     "data": {
      "text/plain": [
       "4"
      ]
     },
     "execution_count": 2,
     "metadata": {},
     "output_type": "execute_result"
    }
   ],
   "source": [
    "#Esempio applicato dopo aver runnato la variabile\n",
    "mat[0][4]"
   ]
  },
  {
   "cell_type": "code",
   "execution_count": null,
   "id": "e4c672b5-d81c-47a1-9ec9-7f6a3e6b118a",
   "metadata": {},
   "outputs": [],
   "source": [
    "#La risposta è 4 perchè negli indici ho specificato nella prima parentesi quadra la riga, nella seconda la colonna, restituendo il valore 4."
   ]
  },
  {
   "cell_type": "code",
   "execution_count": 4,
   "id": "a11fa853-65d0-478f-9187-07e5b4fabad1",
   "metadata": {},
   "outputs": [],
   "source": [
    "#Importiamo il modulo math e proviamo a usare le funzioni .sin() .cos() .factorial() e la variabile .pi la riconoscete?\n",
    "#Diamo il primo comando importando math\n",
    "\n",
    "import math"
   ]
  },
  {
   "cell_type": "code",
   "execution_count": 5,
   "id": "c38157b5-a2d1-42ac-941c-7b7845b3023e",
   "metadata": {},
   "outputs": [
    {
     "name": "stdout",
     "output_type": "stream",
     "text": [
      "1.0\n"
     ]
    }
   ],
   "source": [
    "#Funzione .sin restituisce il seno di un angolo x dove x è in radianti \n",
    "print(math.sin(math.pi / 2))"
   ]
  },
  {
   "cell_type": "code",
   "execution_count": 6,
   "id": "04b16c47-ef6a-4fae-b850-4374509707b1",
   "metadata": {},
   "outputs": [
    {
     "name": "stdout",
     "output_type": "stream",
     "text": [
      "1.0\n"
     ]
    }
   ],
   "source": [
    "#Funzione .cos restituisce il coseno di un angolo x \n",
    "print(math.cos(0))"
   ]
  },
  {
   "cell_type": "code",
   "execution_count": 7,
   "id": "51c895c9-45e9-498a-ad0d-0dc738ebc9db",
   "metadata": {},
   "outputs": [
    {
     "name": "stdout",
     "output_type": "stream",
     "text": [
      "120\n"
     ]
    }
   ],
   "source": [
    "#Restituisce il fattoriale di un numero intero n\n",
    "print(math.factorial(5))"
   ]
  },
  {
   "cell_type": "code",
   "execution_count": 8,
   "id": "71865ddc-ae6a-4102-aace-4764d9e5c99c",
   "metadata": {},
   "outputs": [
    {
     "name": "stdout",
     "output_type": "stream",
     "text": [
      "3.141592653589793\n"
     ]
    }
   ],
   "source": [
    "#La variabile .pi è la costante del Pi greco usata appunto per il calcolo di angoli, cerchi, ecc.\n",
    "print(math.pi)"
   ]
  },
  {
   "cell_type": "code",
   "execution_count": 9,
   "id": "ca7deb2b-0e04-44c2-b2f7-f979e3edb79d",
   "metadata": {},
   "outputs": [
    {
     "data": {
      "text/plain": [
       "180.0"
      ]
     },
     "execution_count": 9,
     "metadata": {},
     "output_type": "execute_result"
    }
   ],
   "source": [
    "#Proviamo a eseguire math.degrees(math.pi) Qual è e cosa significa il risultato? \n",
    "#Per saperne di più su questa funzione possiamo usare help(math.degrees)\n",
    "\n",
    "import math\n",
    "math.degrees(math.pi)"
   ]
  },
  {
   "cell_type": "code",
   "execution_count": 11,
   "id": "d9cc3176-d0c7-41c1-9508-fc43294ae67e",
   "metadata": {},
   "outputs": [
    {
     "name": "stdout",
     "output_type": "stream",
     "text": [
      "Help on built-in function degrees in module math:\n",
      "\n",
      "degrees(x, /)\n",
      "    Convert angle x from radians to degrees.\n",
      "\n"
     ]
    }
   ],
   "source": [
    "#La funzione math.degrees(x) converte un angolo da radianti a gradi.\n",
    "# math.pi è π radianti (cioè mezzo giro).\n",
    "#π radianti equivalgono a 180 gradi.\n",
    "#Molte funzioni trigonometriche in Python (come sin() e cos()) usano radianti, ma siccome spesso ragioniamo in gradi (90°, 180°, ecc.).\n",
    "#math.degrees() converte radianti in gradi.\n",
    "#Per aiutarci ulteriormente si può usare il comando:\n",
    "help(math.degrees)"
   ]
  },
  {
   "cell_type": "code",
   "execution_count": 12,
   "id": "efa1e28e-2e47-42ba-9236-df7a17dfbd6c",
   "metadata": {},
   "outputs": [],
   "source": [
    "#L'azienda Object SpA ha creato una lista di quanti oggetti ha venduto ogni mese nell'ultimo anno: \n",
    "#lst = [2000, 5500, 7200, 4320, 1280, 1900, 2500, 3900, 6410, 8150, 7100, 5350] \n",
    "#trasformiamola in un array NumPy (casting): lst = np.array(lst)  \n",
    "\n",
    "import numpy as np\n",
    "\n",
    "lst = [2000, 5500, 7200, 4320, 1280, 1900, 2500, 3900, 6410, 8150, 7100, 5350]\n",
    "lst = np.array(lst)"
   ]
  },
  {
   "cell_type": "code",
   "execution_count": 13,
   "id": "8f22bae6-3fb5-4480-97ec-90155aa4ac21",
   "metadata": {},
   "outputs": [
    {
     "name": "stdout",
     "output_type": "stream",
     "text": [
      "Vendita massima mensile: 8150\n",
      "Vendita minima mensile: 1280\n"
     ]
    }
   ],
   "source": [
    "#Qual è stata la vendita massima mensile? E quella minima?\n",
    "massima = lst.max()\n",
    "minima = lst.min()\n",
    "\n",
    "print(\"Vendita massima mensile:\", massima)\n",
    "print(\"Vendita minima mensile:\", minima)"
   ]
  },
  {
   "cell_type": "code",
   "execution_count": 14,
   "id": "8fbd3ff6-ea99-43a7-b636-1fba0a0b3bf7",
   "metadata": {},
   "outputs": [
    {
     "name": "stdout",
     "output_type": "stream",
     "text": [
      "Vendite > 5000: [5500 7200 6410 8150 7100 5350]\n",
      "Quante sono: 6\n"
     ]
    }
   ],
   "source": [
    "#Quali sono le vendite mensili maggiori di 5000 oggetti? Quante sono?\n",
    "vendite_maggiori_5000 = lst[lst > 5000]\n",
    "conteggio_maggiori_5000 = vendite_maggiori_5000.size  # oppure len(vendite_maggiori_5000)\n",
    "\n",
    "print(\"Vendite > 5000:\", vendite_maggiori_5000)\n",
    "print(\"Quante sono:\", conteggio_maggiori_5000)"
   ]
  },
  {
   "cell_type": "code",
   "execution_count": 15,
   "id": "b151b136-1237-4f34-bb69-04c541ca936a",
   "metadata": {},
   "outputs": [
    {
     "name": "stdout",
     "output_type": "stream",
     "text": [
      "Vendite < 3000: [2000 1280 1900 2500]\n"
     ]
    }
   ],
   "source": [
    "#Quali sono le vendite minori di 3000 oggetti?\n",
    "vendite_minori_3000 = lst[lst < 3000]\n",
    "print(\"Vendite < 3000:\", vendite_minori_3000)"
   ]
  },
  {
   "cell_type": "code",
   "execution_count": 16,
   "id": "f03a2714-69ba-46fd-929e-e89527b24ea0",
   "metadata": {},
   "outputs": [
    {
     "name": "stdout",
     "output_type": "stream",
     "text": [
      "Media oggetti venduti al mese: 4634.166666666667\n"
     ]
    }
   ],
   "source": [
    "#In media quanti oggetti sono stati venduti al mese?\n",
    "media_mensile = np.mean(lst)\n",
    "print(\"Media oggetti venduti al mese:\", media_mensile)"
   ]
  },
  {
   "cell_type": "code",
   "execution_count": null,
   "id": "064c3a59-24ad-4a41-af0d-48819442211d",
   "metadata": {},
   "outputs": [],
   "source": [
    "#Consideriamo il seguente dizionario: \n",
    "#fatturati_dict = {1997: 12_000, 1998: 15_000, 1999: 20_000, 2000: 23_000, 2001: 25_000, 2002: 17_000, 2003: 14_000, 2004: 21_000} \n",
    "#Consideriamo ora la seguente Series: \n",
    "#fatturati_series = pd.Series([12_000, 15_000, 20_000, 23_000, 25_000, 17_000, 14_000, 21_000], index=range(1997, 2005)) \n",
    "#Possiamo accedere alle stesse informazioni nello stesso modo: fatturati_dict[1997] fatturati_series[1997] \n",
    "#Dunque qual è la differenza tra i due tipi di dato? Cosa potremmo fare con la series che non potremmo fare col dizionario?\n",
    "\n",
    "#Il dizionario è una mappa chiave-valore con accesso diretto tramite chiave."
   ]
  },
  {
   "cell_type": "code",
   "execution_count": 17,
   "id": "1a5b6391-7a47-4f72-9fd1-7e56602be939",
   "metadata": {},
   "outputs": [],
   "source": [
    "fatturati_dict = {\n",
    "    1997: 12000,\n",
    "    1998: 15000,\n",
    "    1999: 20000,\n",
    "    2000: 23000,\n",
    "    2001: 25000,\n",
    "    2002: 17000,\n",
    "    2003: 14000,\n",
    "    2004: 21000\n",
    "}"
   ]
  },
  {
   "cell_type": "code",
   "execution_count": 18,
   "id": "938ee50d-7e1d-455c-bf26-3c23de5014e0",
   "metadata": {},
   "outputs": [],
   "source": [
    "import pandas as pd\n",
    "\n",
    "fatturati_series = pd.Series(\n",
    "    [12000, 15000, 20000, 23000, 25000, 17000, 14000, 21000],\n",
    "    index=range(1997, 2005)\n",
    ")"
   ]
  },
  {
   "cell_type": "code",
   "execution_count": 19,
   "id": "c2a5b014-0d62-40a9-8629-69f4d64fe0b2",
   "metadata": {},
   "outputs": [],
   "source": [
    "#La series è simile a un dizionario, ma potenziata.\n",
    "#Le chiavi sono l’indice (index), i valori sono i dati.\n",
    "#Si consiglia di usare dict se serve solo una mappa chiave-valore, mentre pandas.Series quando si\n",
    "#devono lavorare con dati numerici o temporali, analizzare, filtrare o visualizzare con facilità."
   ]
  },
  {
   "cell_type": "code",
   "execution_count": 20,
   "id": "4980e039-8cd5-4166-99bf-61b6c0cd19ea",
   "metadata": {},
   "outputs": [],
   "source": [
    "#L'azienda Object SpA ha un dataset con tutti gli stipendi dei dipendenti, memorizzato in un ndarray.\n",
    "#import numpy as np stipendi = np.array( [100, 200, 300, 400, 500, 600, 700, 800, 900, 1000] ) \n",
    "#L'azienda ci chiede di raddoppiare tutti gli stipendi; facciamolo in due modi: • con un ciclo for e anche con un masking.\n",
    "\n",
    "import numpy as np\n",
    "\n",
    "stipendi = np.array([100, 200, 300, 400, 500, 600, 700, 800, 900, 1000])"
   ]
  },
  {
   "cell_type": "code",
   "execution_count": 21,
   "id": "cfdc588a-f30d-4caa-91b8-2f80ef05b0e4",
   "metadata": {},
   "outputs": [
    {
     "name": "stdout",
     "output_type": "stream",
     "text": [
      "Stipendi doppi (for): [ 200  400  600  800 1000 1200 1400 1600 1800 2000]\n"
     ]
    }
   ],
   "source": [
    "stipendi_doppi = np.empty_like(stipendi)\n",
    "\n",
    "for i in range(len(stipendi)):\n",
    "    stipendi_doppi[i] = stipendi[i] * 2\n",
    "\n",
    "print(\"Stipendi doppi (for):\", stipendi_doppi)"
   ]
  },
  {
   "cell_type": "code",
   "execution_count": 22,
   "id": "41ef317f-d191-4e4a-95ea-0ee8c155c32a",
   "metadata": {},
   "outputs": [
    {
     "name": "stdout",
     "output_type": "stream",
     "text": [
      "Stipendi doppi (vettoriale): [ 200  400  600  800 1000 1200 1400 1600 1800 2000]\n"
     ]
    }
   ],
   "source": [
    "stipendi_doppi_mask = stipendi * 2\n",
    "print(\"Stipendi doppi (vettoriale):\", stipendi_doppi_mask)"
   ]
  },
  {
   "cell_type": "code",
   "execution_count": 23,
   "id": "d361b10b-452e-4093-853f-a45db4e2d5ea",
   "metadata": {},
   "outputs": [],
   "source": [
    "#Scrivere un programma che, data una lista di numeri, fornisca in output i tre numeri più grandi; \n",
    "#gestire il caso in cui la lista sia più corta di tre, e quando uno o più dei numeri selezionati sono uguali.\n",
    "def top_tre_numeri(lista):\n",
    "    if len(lista) == 0:\n",
    "        print(\"La lista è vuota.\")\n",
    "    elif len(lista) < 3:\n",
    "        print(f\"Lista troppo corta, ecco i numeri disponibili (massimo 3): {sorted(lista, reverse=True)}\")\n",
    "    else:\n",
    "        #Ordina la lista in ordine decrescente\n",
    "        ordinata = sorted(lista, reverse=True)\n",
    "        top3 = ordinata[:3]\n",
    "        print(f\"I tre numeri più grandi sono: {top3}\")"
   ]
  },
  {
   "cell_type": "code",
   "execution_count": 24,
   "id": "dddff81a-9488-4f28-87ce-e555d6a2aeac",
   "metadata": {},
   "outputs": [
    {
     "name": "stdout",
     "output_type": "stream",
     "text": [
      "I tre numeri più grandi sono: [80, 50, 50]\n",
      "Lista troppo corta, ecco i numeri disponibili (massimo 3): [7, 3]\n",
      "La lista è vuota.\n"
     ]
    }
   ],
   "source": [
    "#TEST\n",
    "top_tre_numeri([10, 50, 20, 50, 80])     \n",
    "#I tre numeri più grandi sono: [80, 50, 50]\n",
    "\n",
    "top_tre_numeri([3, 7])                  \n",
    "#Lista troppo corta, ecco i numeri disponibili (massimo 3): [7, 3]\n",
    "\n",
    "top_tre_numeri([])                     \n",
    "#La lista è vuota."
   ]
  },
  {
   "cell_type": "code",
   "execution_count": null,
   "id": "443cd111-3529-4fe5-a4b2-b4a10f2c9d01",
   "metadata": {},
   "outputs": [],
   "source": [
    "#Scrivere un programma che • in input acquisisce una lista di numeri e un numero K\n",
    "#in output, dovrà restituire la media di tutti i numeri nella lista maggiori o uguali a K\n",
    "#se non ce ne dovesse essere nessuno, dovrà stampare a schermo un messaggio adeguato.\n",
    "def media_maggiori_o_uguali(lista, k): #Filtra i numeri maggiori o uguali a k\n",
    "\n",
    "    numeri_filtrati = [n for n in lista if n >= k]\n",
    "\n",
    "    if numeri_filtrati:\n",
    "        media = sum(numeri_filtrati) / len(numeri_filtrati)\n",
    "        print(f\"La media dei numeri maggiori o uguali a {k} è: {media}\")\n",
    "    else:\n",
    "        print(f\"Nessun numero nella lista è maggiore o uguale a {k}.\")\n",
    "\n",
    "# --- Acquisizione input ---\n",
    "\n",
    "# Inserisci i numeri separati da spazi\n",
    "input_lista = input(\"Inserisci una lista di numeri separati da spazio: \")\n",
    "lista = [float(n) for n in input_lista.split()]\n",
    "\n",
    "# Inserisci il numero K\n",
    "k = float(input(\"Inserisci il valore di K: \"))\n",
    "\n",
    "# --- Chiamata della funzione ---\n",
    "media_maggiori_o_uguali(lista, k)"
   ]
  },
  {
   "cell_type": "code",
   "execution_count": null,
   "id": "3756ea98-7b08-453e-a7da-424445dc1a14",
   "metadata": {},
   "outputs": [],
   "source": [
    "#Scrivere un programma che, data una lista di numeri, come output stamperà lo stesso numero di asterischi su righe diverse, ottenendo una semplice visualizzazione grafica\n",
    "#Esempio, supponendo di avere il seguente input:\n",
    "#numeri = [5, 2, 3, 4] L'output sarà: ***** ** *** ****\n",
    "\n",
    "def stampa_asterischi(lista):\n",
    "    for numero in lista:\n",
    "        print('*' * numero)\n",
    "\n",
    "# Esempio:\n",
    "numeri = [5, 2, 3, 4]\n",
    "stampa_asterischi(numeri)"
   ]
  },
  {
   "cell_type": "code",
   "execution_count": null,
   "id": "8bd01f1a-e626-4b07-a2ee-3002bd75d9fd",
   "metadata": {},
   "outputs": [],
   "source": [
    "#Abbiamo una lista di codici fiscali:\n",
    "#lista_cf = [\"ABCDEF95G01A123B\", \"GHIJKL91M02A321C\", \"MNOPQR89S03A456D\", \"STUVWX95Z04A654E\", \"XYZABC01D05A789F\", \"DEFGHI95J06A987G\"]\n",
    "#trovare i codici fiscali che contengono \"95\", metterli in una lista, e alla fine stamparla; \n",
    "#inoltre, per ognuno di essi, stampare a video i caratteri relativi al nome e quelli relativi al cognome.\n",
    "\n",
    "lista_cf = [\"ABCDEF95G01A123B\", \"GHIJKL91M02A321C\", \"MNOPQR89S03A456D\",\n",
    "            \"STUVWX95Z04A654E\", \"XYZABC01D05A789F\", \"DEFGHI95J06A987G\"]\n",
    "\n",
    "# Filtriamo i codici fiscali che contengono \"95\"\n",
    "cf_con_95 = [cf for cf in lista_cf if \"95\" in cf]\n",
    "\n",
    "print(\"Codici fiscali contenenti '95':\", cf_con_95)\n",
    "\n",
    "# Per ciascuno stampiamo nome e cognome\n",
    "for cf in cf_con_95:\n",
    "    cognome = cf[0:3]\n",
    "    nome = cf[3:6]\n",
    "    print(f\"Codice: {cf} → Cognome: {cognome}, Nome: {nome}\")\n"
   ]
  },
  {
   "cell_type": "code",
   "execution_count": null,
   "id": "eaf9d230-7af4-4343-a1f0-b6bd50168a04",
   "metadata": {},
   "outputs": [],
   "source": [
    "#Abbiamo tre liste della stessa lunghezza, dove ogni elemento nella medesima posizione si riferisce ai dati dello stesso studente:\n",
    "#studenti = [\"Alex\", \"Bob\", \"Cindy\", \"Dan\", \"Emma\", \"Faith\", \"Grace\", \"Henry\"] \n",
    "#corsi = [\"Cybersecurity\", \"Data Analyst\", \"Backend\", \"Frontend\", \"Data Analyst\", \"Backend\", \"Frontend\", \"Cybersecurity\"] \n",
    "#edizioni = [1, 2, 3, 2, 2, 1, 3, 3] \n",
    "#Stampare a video tutti e soli gli studenti che frequentano una prima edizione; non tutti i dati potrebbero essere necessari.\n",
    "\n",
    "studenti = [\"Alex\", \"Bob\", \"Cindy\", \"Dan\", \"Emma\", \"Faith\", \"Grace\", \"Henry\"]\n",
    "corsi = [\"Cybersecurity\", \"Data Analyst\", \"Backend\", \"Frontend\", \"Data Analyst\", \"Backend\", \"Frontend\", \"Cybersecurity\"]\n",
    "edizioni = [1, 2, 3, 2, 2, 1, 3, 3]\n",
    "\n",
    "print(\"Studenti in prima edizione:\")\n",
    "for i in range(len(studenti)):\n",
    "    if edizioni[i] == 1:\n",
    "        print(studenti[i])"
   ]
  },
  {
   "cell_type": "code",
   "execution_count": null,
   "id": "f228402e-7df4-4e2a-9adb-80a7df1ebdde",
   "metadata": {},
   "outputs": [],
   "source": [
    "#Abbiamo una lista di stringhe di prezzi in dollari, che erroneamente sono stati scritti con il simbolo dell'euro:\n",
    "#prezzi = [\"100 €\", \"200 €\", \"500 €\", \"10 €\", \"50 €\", \"70 €\"]\n",
    "#Cambiare il simbolo dell'euro (€) in quello del dollaro ($) per ogni stringa nella lista; il risultato sarà memorizzato in un'altra lista.\n",
    "prezzi = [\"100 €\", \"200 €\", \"500 €\", \"10 €\", \"50 €\", \"70 €\"]\n",
    "\n",
    "prezzi_dollari = [prezzo.replace(\"€\", \"$\") for prezzo in prezzi]\n",
    "\n",
    "print(prezzi_dollari)"
   ]
  },
  {
   "cell_type": "code",
   "execution_count": null,
   "id": "1d0e3b8c-083f-46db-8b09-a4aaa0f7c164",
   "metadata": {},
   "outputs": [],
   "source": [
    "#Abbiamo una lista di studenti:\n",
    "#studenti = [\"Alex\", \"Bob\", \"Cindy\", \"Dan\", \"Emma\", \"Faith\", \"Grace\", \"Henry\", \"Isabelle\", \"John\"] \n",
    "#vogliamo dividere gli studenti in due squadre per un campionato di Uno nel seguente modo:\n",
    "#selezioneremo i nomi in posizione pari per un squadra, e i nomi in posizione dispari per l'altra. \n",
    "#Creiamo due liste per ogni squadra, e alla fine visualizziamole.\n",
    "studenti = [\"Alex\", \"Bob\", \"Cindy\", \"Dan\", \"Emma\", \"Faith\", \"Grace\", \"Henry\", \"Isabelle\", \"John\"]\n",
    "\n",
    "squadra_pari = studenti[0::2]    # elementi in posizione pari: 0, 2, 4, ...\n",
    "squadra_dispari = studenti[1::2] # elementi in posizione dispari: 1, 3, 5, ...\n",
    "\n",
    "print(\"Squadra pari:\", squadra_pari)\n",
    "print(\"Squadra dispari:\", squadra_dispari)"
   ]
  },
  {
   "cell_type": "code",
   "execution_count": null,
   "id": "5a63287e-9dc1-4ef8-8ebb-f6f38a5cae33",
   "metadata": {},
   "outputs": [],
   "source": [
    "#Abbiamo una lista con i guadagni degli ultimi 12 mesi (supponiamo da Gennaio a Dicembre):\n",
    "#guadagni = [100, 90, 70, 40, 50, 80, 90, 120, 80, 20, 50, 50] dobbiamo confrontare, stampando tutto a video, il guadagno di ogni mese con la media dei guadagni precedenti, e specificare nell'output se il guadagno attuale è maggiore o minore della media dei precedenti. Esempio di un possibile output: Mese 1: 100 € Mese 2: 90 € (media prec: 100 € - il guadagno attuale è minore) Mese 3: 70 € (media prec: 95 € - il guadagno attuale è minore)\n"
   ]
  }
 ],
 "metadata": {
  "kernelspec": {
   "display_name": "Python [conda env:base] *",
   "language": "python",
   "name": "conda-base-py"
  },
  "language_info": {
   "codemirror_mode": {
    "name": "ipython",
    "version": 3
   },
   "file_extension": ".py",
   "mimetype": "text/x-python",
   "name": "python",
   "nbconvert_exporter": "python",
   "pygments_lexer": "ipython3",
   "version": "3.12.7"
  }
 },
 "nbformat": 4,
 "nbformat_minor": 5
}
