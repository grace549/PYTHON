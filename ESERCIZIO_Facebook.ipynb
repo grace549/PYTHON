{
 "cells": [
  {
   "cell_type": "code",
   "execution_count": null,
   "id": "d87fd5ec-9cbd-4cff-9e9b-69f209c7a420",
   "metadata": {},
   "outputs": [],
   "source": [
    "import pandas as pd\n",
    "df_facebook = pd.read_csv('facebook.csv')"
   ]
  },
  {
   "cell_type": "code",
   "execution_count": null,
   "id": "6227d0f7-e9f4-4975-8063-d67239ddd867",
   "metadata": {},
   "outputs": [],
   "source": [
    "#Converto la colonna in timestamp\n",
    "df_facebook['status_published'] = pd.to_datetime(df_facebook['status_published'])\n",
    "print(df_facebook['status_published'].dtype)"
   ]
  },
  {
   "cell_type": "code",
   "execution_count": null,
   "id": "04273dc3-dae0-4641-a041-feb06220a0df",
   "metadata": {},
   "outputs": [],
   "source": [
    "#Estraggo i componenti richiesti\n",
    "df_facebook['Anno'] = df_facebook['status_published'].dt.year\n",
    "df_facebook['Mese'] = df_facebook['status_published'].dt.month\n",
    "df_facebook['Giorno'] = df_facebook['status_published'].dt.day\n",
    "df_facebook['GiornoSettimana'] = df_facebook['status_published'].dt.dayofweek  # 0 = Lunedì\n",
    "df_facebook['GiornoAnno'] = df_facebook['status_published'].dt.dayofyear\n",
    "\n",
    "#Visualizzo le prime righe con le nuove colonne\n",
    "print(df_facebook[['status_published', 'Anno', 'Mese', 'Giorno', 'GiornoSettimana', 'GiornoAnno']].head())\n"
   ]
  },
  {
   "cell_type": "code",
   "execution_count": null,
   "id": "c4f9a990-844f-40dc-a75f-ff3edc49e2ed",
   "metadata": {},
   "outputs": [],
   "source": [
    "#Filtra i post pubblicati nel 2012\n",
    "post_2012 = df_facebook[df_facebook['status_published'].dt.year == 2012]\n",
    "\n",
    "#Visualizzo le prime righe dei post del 2012\n",
    "print(post_2012[['status_published']].head())"
   ]
  },
  {
   "cell_type": "code",
   "execution_count": null,
   "id": "8cc86c4e-7d2d-4188-a24c-ad1ce0416b44",
   "metadata": {},
   "outputs": [],
   "source": [
    "# Filtra i post pubblicati a maggio 2018\n",
    "post_maggio_2018 = df_facebook[\n",
    "    (df_facebook['status_published'].dt.year == 2018) &\n",
    "    (df_facebook['status_published'].dt.month == 5)\n",
    "]\n",
    "\n",
    "#Visualizzo le prime righe dei post filtrati\n",
    "print(post_maggio_2018[['status_published']].head())"
   ]
  },
  {
   "cell_type": "code",
   "execution_count": null,
   "id": "e455b62d-e8c7-42b1-b3cd-6a44826c0761",
   "metadata": {},
   "outputs": [],
   "source": [
    "#Aggiungo una colonna con il giorno della settimana\n",
    "df_facebook['GiornoSettimana'] = df_facebook['status_published'].dt.dayofweek\n",
    "\n",
    "#Creo una colonna booleana: True se è weekend (sabato=5 o domenica=6)\n",
    "df_facebook['Weekend'] = df_facebook['GiornoSettimana'].isin([5, 6])\n",
    "\n",
    "#Conto quanti post sono stati pubblicati nel weekend e nei giorni feriali\n",
    "conteggio_post = df_facebook['Weekend'].value_counts()\n",
    "\n",
    "#Visualizzo il risultato\n",
    "print(\"Post pubblicati nel weekend:\", conteggio_post.get(True, 0))\n",
    "print(\"Post pubblicati nei giorni feriali:\", conteggio_post.get(False, 0))\n"
   ]
  },
  {
   "cell_type": "code",
   "execution_count": null,
   "id": "225c7a38-a157-4c9a-a934-6a607e3f74e4",
   "metadata": {},
   "outputs": [],
   "source": [
    "#Aggiung una colonna con l'anno\n",
    "df_facebook['Anno'] = df_facebook['status_published'].dt.year\n",
    "\n",
    "# Trova il primo post per ogni anno\n",
    "primo_post_per_anno = df_facebook.groupby('Anno')['status_published'].min()\n",
    "\n",
    "# Trova l'ultimo post per ogni anno\n",
    "ultimo_post_per_anno = df_facebook.groupby('Anno')['status_published'].max()\n",
    "\n",
    "#Combina in un unico DataFrame\n",
    "intervallo_post = pd.DataFrame({\n",
    "    'PrimoPost': primo_post_per_anno,\n",
    "    'UltimoPost': ultimo_post_per_anno\n",
    "})\n",
    "\n",
    "print(intervallo_post)"
   ]
  },
  {
   "cell_type": "code",
   "execution_count": null,
   "id": "c8aab6ae-e7a7-45a3-8b32-c1392734d030",
   "metadata": {},
   "outputs": [],
   "source": [
    "#Numero di tipi di post unici\n",
    "num_tipi_post = df_facebook['status_type'].nunique()\n",
    "print(f\"Numero di tipi di post: {num_tipi_post}\")\n",
    "\n",
    "#Conteggio dei post per ogni tipo\n",
    "conteggio_per_tipo = df_facebook['status_type'].value_counts()\n",
    "print(\"\\nPost per tipo:\\n\", conteggio_per_tipo)"
   ]
  },
  {
   "cell_type": "code",
   "execution_count": null,
   "id": "8bbaec86-3de1-4539-8e31-982383ddd538",
   "metadata": {},
   "outputs": [],
   "source": []
  }
 ],
 "metadata": {
  "kernelspec": {
   "display_name": "Python [conda env:base] *",
   "language": "python",
   "name": "conda-base-py"
  },
  "language_info": {
   "codemirror_mode": {
    "name": "ipython",
    "version": 3
   },
   "file_extension": ".py",
   "mimetype": "text/x-python",
   "name": "python",
   "nbconvert_exporter": "python",
   "pygments_lexer": "ipython3",
   "version": "3.12.7"
  }
 },
 "nbformat": 4,
 "nbformat_minor": 5
}
