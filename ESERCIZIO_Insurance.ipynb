{
 "cells": [
  {
   "cell_type": "code",
   "execution_count": null,
   "id": "00c5bd83-30bb-4ed5-a167-b4bcdc0dbda6",
   "metadata": {},
   "outputs": [],
   "source": [
    "import pandas as pd\n",
    "\n",
    "df_insurance = pd.read_csv('insurance.csv')\n",
    "print(df_insurance.head())"
   ]
  },
  {
   "cell_type": "code",
   "execution_count": null,
   "id": "e27a9e1d-5b1b-413a-9d43-21cda7eaa32e",
   "metadata": {},
   "outputs": [],
   "source": [
    "# Dimensioni del dataset (righe, colonne)\n",
    "print(f\"Dimensioni dataset: {df_insurance.shape}\")\n",
    "\n",
    "# Anteprima delle prime 5 righe\n",
    "print(\"\\nAnteprima dataset:\")\n",
    "print(df_insurance.head())\n",
    "\n",
    "# Nomi delle colonne\n",
    "print(\"\\nNomi delle colonne:\")\n",
    "print(df_insurance.columns.tolist())"
   ]
  },
  {
   "cell_type": "code",
   "execution_count": null,
   "id": "161be556-941b-4b64-bc48-234fa7d0aba2",
   "metadata": {},
   "outputs": [],
   "source": [
    "#Quali sono le medie di charges rispetto a region? Ci sono differenze significative?\n",
    "medie_charges_per_region = df_insurance.groupby('region')['charges'].mean()\n",
    "print(medie_charges_per_region)"
   ]
  },
  {
   "cell_type": "code",
   "execution_count": null,
   "id": "847205bd-f97b-44f8-8902-6f87385f95a1",
   "metadata": {},
   "outputs": [],
   "source": [
    "#Rispetto a SMOKER e SEX\n",
    "#SMOKER\n",
    "medie_charges_per_smoker = df_insurance.groupby('smoker')['charges'].mean()\n",
    "print(medie_charges_per_smoker)\n",
    "\n",
    "#SEX\n",
    "medie_charges_per_sex = df_insurance.groupby('sex')['charges'].mean()\n",
    "print(medie_charges_per_sex)"
   ]
  },
  {
   "cell_type": "code",
   "execution_count": null,
   "id": "cf2bcabd-1753-4565-bc37-46272d86e37d",
   "metadata": {},
   "outputs": [],
   "source": [
    "#Quali sono i descrittori statistici di bmi? Quali sono minimo, media e massimo di charges rispetto ai diversi quartili dei valori di bmi?\n",
    "print(df_insurance['bmi'].describe())\n",
    "\n",
    "df_insurance['bmi_quartile'] = pd.qcut(df_insurance['bmi'], 4, labels=['Q1', 'Q2', 'Q3', 'Q4'])\n",
    "\n",
    "stat_charges_per_bmi_quartile = df_insurance.groupby('bmi_quartile')['charges'].agg(['min', 'mean', 'max'])\n",
    "print(stat_charges_per_bmi_quartile)"
   ]
  }
 ],
 "metadata": {
  "kernelspec": {
   "display_name": "Python [conda env:base] *",
   "language": "python",
   "name": "conda-base-py"
  },
  "language_info": {
   "codemirror_mode": {
    "name": "ipython",
    "version": 3
   },
   "file_extension": ".py",
   "mimetype": "text/x-python",
   "name": "python",
   "nbconvert_exporter": "python",
   "pygments_lexer": "ipython3",
   "version": "3.12.7"
  }
 },
 "nbformat": 4,
 "nbformat_minor": 5
}
