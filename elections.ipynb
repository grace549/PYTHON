{
 "cells": [
  {
   "cell_type": "code",
   "execution_count": null,
   "id": "ebe6ea3c-ee1a-475d-8249-a736292cb31c",
   "metadata": {},
   "outputs": [],
   "source": [
    "import pandas as pd\n",
    "\n",
    "url = \"https://raw.githubusercontent.com/plotly/datasets/master/election.csv\"\n",
    "elections = pd.read_csv(url)\n",
    "\n",
    "print(elections.head())"
   ]
  },
  {
   "cell_type": "code",
   "execution_count": null,
   "id": "52408d47-b94e-4432-9174-39b1e9c2b201",
   "metadata": {},
   "outputs": [],
   "source": [
    "#Somma dei voti totali per ogni candidato\n",
    "total_votes = elections[[\"Coderre\", \"Bergeron\", \"Joly\"]].sum()"
   ]
  },
  {
   "cell_type": "code",
   "execution_count": null,
   "id": "a8819aa8-fc3c-4988-bd83-e3f7dacf726d",
   "metadata": {},
   "outputs": [],
   "source": [
    "import seaborn as sns\n",
    "import matplotlib.pyplot as plt\n",
    "\n",
    "# Prepara il DataFrame per il grafico\n",
    "total_votes_df = total_votes.reset_index()\n",
    "total_votes_df.columns = [\"Candidate\", \"Total Votes\"]\n",
    "\n",
    "# Plot\n",
    "plt.figure(figsize=(8,5))\n",
    "sns.barplot(data=total_votes_df, x=\"Candidate\", y=\"Total Votes\")\n",
    "\n",
    "plt.title(\"Voti totali per candidato (tutti i distretti)\")\n",
    "plt.xlabel(\"Candidato\")\n",
    "plt.ylabel(\"Numero totale di voti\")\n",
    "plt.show()"
   ]
  },
  {
   "cell_type": "code",
   "execution_count": null,
   "id": "c14bd057-5913-48ac-9ead-d18df7ffdfda",
   "metadata": {},
   "outputs": [],
   "source": [
    "#Seleziona i primi 10 distretti\n",
    "top10_districts = elections.head(10)\n",
    "\n",
    "plt.figure(figsize=(10,6))\n",
    "sns.barplot(data=top10_districts, x=\"district\", y=\"total\", palette=\"viridis\")\n",
    "\n",
    "plt.title(\"Numero di votanti nei primi 10 distretti\")\n",
    "plt.xlabel(\"Distretto\")\n",
    "plt.ylabel(\"Numero di votanti\")\n",
    "plt.xticks(rotation=45)\n",
    "plt.show()"
   ]
  },
  {
   "cell_type": "code",
   "execution_count": null,
   "id": "53e8a7dc-5365-4c8e-a05c-0b6dc643606c",
   "metadata": {},
   "outputs": [],
   "source": []
  }
 ],
 "metadata": {
  "kernelspec": {
   "display_name": "Python [conda env:base] *",
   "language": "python",
   "name": "conda-base-py"
  },
  "language_info": {
   "codemirror_mode": {
    "name": "ipython",
    "version": 3
   },
   "file_extension": ".py",
   "mimetype": "text/x-python",
   "name": "python",
   "nbconvert_exporter": "python",
   "pygments_lexer": "ipython3",
   "version": "3.12.7"
  }
 },
 "nbformat": 4,
 "nbformat_minor": 5
}
