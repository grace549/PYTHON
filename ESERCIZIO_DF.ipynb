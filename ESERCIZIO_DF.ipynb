{
 "cells": [
  {
   "cell_type": "code",
   "execution_count": 2,
   "id": "d3257add-e4c1-47c2-832e-9ec3e3c6d568",
   "metadata": {},
   "outputs": [],
   "source": [
    "import pandas as pd\n",
    "employees_df = pd.DataFrame({ 'employee_id': [101, 102, 103, 104, 105], 'name': ['Alice', 'Bob', 'Charlie', 'David', 'Emma'], 'department_id': [1, 2, 1, 2, 3] })"
   ]
  },
  {
   "cell_type": "code",
   "execution_count": 3,
   "id": "05c407b8-bc68-4990-a386-98c35eebb9ce",
   "metadata": {},
   "outputs": [],
   "source": [
    "departments_df = pd.DataFrame({ 'department_id': [1, 2, 3], 'department_name': ['HR', 'IT', 'Finance'], 'location': ['New York', 'San Francisco', 'Chicago'] })"
   ]
  },
  {
   "cell_type": "code",
   "execution_count": 5,
   "id": "fd734cdd-8e64-49e6-8785-49bc95a2719d",
   "metadata": {},
   "outputs": [],
   "source": [
    "#Merge\n",
    "df_merged = employees_df.merge(departments_df, on='department_id')"
   ]
  },
  {
   "cell_type": "code",
   "execution_count": 7,
   "id": "6d89aaf6-557a-489a-9622-3175e53ccb93",
   "metadata": {},
   "outputs": [],
   "source": [
    "#Per ogni DataFrame, trasformare la colonna department_id nell'indice, facendo in modo che la modifica sia permanente; poi unire i due dataset mediante il metodo .join()\n",
    "employees_df.set_index('department_id', inplace=True)\n",
    "departments_df.set_index('department_id', inplace=True)"
   ]
  },
  {
   "cell_type": "code",
   "execution_count": 8,
   "id": "9c5b17df-05cb-47b3-871c-6e57b51f6b8f",
   "metadata": {},
   "outputs": [],
   "source": [
    "#Unisco i due dataframe con join\n",
    "df_joined = employees_df.join(departments_df)"
   ]
  },
  {
   "cell_type": "code",
   "execution_count": null,
   "id": "4986663f-2d8b-460e-9de1-4a5c437791de",
   "metadata": {},
   "outputs": [],
   "source": [
    "#Differenze principali:\n",
    "#il merge lavora su colonne e può unire su qualsiasi colonna (o più colonne).\n",
    "#mentre il join lavora sugli indici del DataFrame, quindi prima devi settare department_id come indice.\n",
    "#Se si usa il merge senza specificare how, rischi di perdere righe senza corrispondenze e se usi .join() senza specificare how, mantieni tutte le righe del DataFrame a sinistra, anche se non trovano corrispondenza a destra (quelle colonne saranno NaN).\n"
   ]
  }
 ],
 "metadata": {
  "kernelspec": {
   "display_name": "Python [conda env:base] *",
   "language": "python",
   "name": "conda-base-py"
  },
  "language_info": {
   "codemirror_mode": {
    "name": "ipython",
    "version": 3
   },
   "file_extension": ".py",
   "mimetype": "text/x-python",
   "name": "python",
   "nbconvert_exporter": "python",
   "pygments_lexer": "ipython3",
   "version": "3.12.7"
  }
 },
 "nbformat": 4,
 "nbformat_minor": 5
}
