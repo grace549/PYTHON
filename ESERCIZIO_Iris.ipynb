{
 "cells": [
  {
   "cell_type": "code",
   "execution_count": null,
   "id": "90885e69-1188-4006-9b4b-bb4c678a25c0",
   "metadata": {},
   "outputs": [],
   "source": [
    "import pandas as pd\n",
    "df = pd.read_csv('iris.csv')"
   ]
  },
  {
   "cell_type": "code",
   "execution_count": null,
   "id": "799026d0-33ac-4783-9668-0f9b57e39db6",
   "metadata": {},
   "outputs": [],
   "source": [
    "#Calcolare la media della lunghezza dei petali di tutto il dataset.\n",
    "#Intanto scopriamo i nomi delle colonne \n",
    "print (df.columns)\n",
    "media = df['petal_length'].mean()\n",
    "print(\"La media della lunghezza dei petali è:\", media)"
   ]
  },
  {
   "cell_type": "code",
   "execution_count": null,
   "id": "c1bd48ef-e3f0-471f-b212-c75462e584a6",
   "metadata": {},
   "outputs": [],
   "source": [
    "#Media per specie utilizzando il metodo groupby\n",
    "media_per_specie = df.groupby(\"species\")[\"petal_length\"].mean()\n",
    "\n",
    "print(media_per_specie)"
   ]
  },
  {
   "cell_type": "code",
   "execution_count": null,
   "id": "b73976fc-38de-4041-a11c-6c119f28b9aa",
   "metadata": {},
   "outputs": [],
   "source": [
    "#Media, minimo e massimo della larghezza dei sepali per ogni specie, utilizzando .groupby() e .agg()\n",
    "statistiche_sepal_width = df.groupby(\"species\")[\"sepal_width\"].agg([\"min\", \"mean\", \"max\"])\n",
    "\n",
    "print(statistiche_sepal_width)"
   ]
  },
  {
   "cell_type": "code",
   "execution_count": null,
   "id": "a5710b44-9e54-453f-ba35-21137d58736b",
   "metadata": {},
   "outputs": [],
   "source": []
  }
 ],
 "metadata": {
  "kernelspec": {
   "display_name": "Python [conda env:base] *",
   "language": "python",
   "name": "conda-base-py"
  },
  "language_info": {
   "codemirror_mode": {
    "name": "ipython",
    "version": 3
   },
   "file_extension": ".py",
   "mimetype": "text/x-python",
   "name": "python",
   "nbconvert_exporter": "python",
   "pygments_lexer": "ipython3",
   "version": "3.12.7"
  }
 },
 "nbformat": 4,
 "nbformat_minor": 5
}
