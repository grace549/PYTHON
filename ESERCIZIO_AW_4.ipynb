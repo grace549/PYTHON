{
 "cells": [
  {
   "cell_type": "code",
   "execution_count": null,
   "id": "02d6e155-0017-490b-9c18-1fb529068d47",
   "metadata": {},
   "outputs": [],
   "source": [
    "from sqlalchemy import create_engine\n",
    "import pandas as pd\n",
    "\n",
    "user = 'root'\n",
    "password = 'Grace1999'\n",
    "host = 'localhost'\n",
    "port = '3306'\n",
    "database = 'adventureworksdw2020'\n",
    "\n",
    "engine = create_engine(f\"mysql+mysqlconnector://{user}:{password}@{host}:{port}/{database}\")\n",
    "\n",
    "df_customer = pd.read_sql(\"SELECT * FROM DimCustomer\", engine)"
   ]
  },
  {
   "cell_type": "code",
   "execution_count": null,
   "id": "0d446f92-0631-49b2-916b-8796cf3ff124",
   "metadata": {},
   "outputs": [],
   "source": [
    "print(df_customer.columns)"
   ]
  },
  {
   "cell_type": "code",
   "execution_count": null,
   "id": "601fdab4-aa1e-4443-86a8-3884c146b448",
   "metadata": {},
   "outputs": [],
   "source": [
    "# Trasforma i nomi in minuscolo\n",
    "df_customer['FirstName'] = df_customer['FirstName'].str.lower()\n",
    "\n",
    "# Trasforma i cognomi in maiuscolo\n",
    "df_customer['LastName'] = df_customer['LastName'].str.upper()\n",
    "\n",
    "# Visualizza alcune righe per verificare\n",
    "print(df_customer[['FirstName', 'LastName']].head())"
   ]
  },
  {
   "cell_type": "code",
   "execution_count": null,
   "id": "d8368b55-0af9-4ee5-928d-4926f94dca8c",
   "metadata": {},
   "outputs": [],
   "source": [
    "df_customer[['Username', 'Domain']] = df_customer['EmailAddress'].str.split('@', expand=True)\n",
    "\n",
    "#Visualizzo il risultato\n",
    "print(df_customer[['EmailAddress', 'Username', 'Domain']].head())"
   ]
  },
  {
   "cell_type": "code",
   "execution_count": null,
   "id": "01466f56-23f3-4b62-a6a2-c63fb1ccce58",
   "metadata": {},
   "outputs": [],
   "source": [
    "df_customer['Phone_parts'] = df_customer['Phone'].str.split(' ')\n",
    "\n",
    "#Visualizzo le prime righe con la nuova colonna\n",
    "print(df_customer[['Phone', 'Phone_parts']].head())"
   ]
  },
  {
   "cell_type": "code",
   "execution_count": null,
   "id": "4cc0c749-0d2a-4879-93a2-690bc84d0061",
   "metadata": {},
   "outputs": [],
   "source": [
    "#Filtro le righe dove EmailAddress contiene \"21\"\n",
    "email_con_21 = df_customer[df_customer['EmailAddress'].str.contains('21', na=False)]\n",
    "\n",
    "#Visualizzo il risultato\n",
    "print(email_con_21[['EmailAddress']])"
   ]
  },
  {
   "cell_type": "code",
   "execution_count": null,
   "id": "0fb4b0fb-f852-43c1-aeaa-5ffb3990ccdd",
   "metadata": {},
   "outputs": [],
   "source": [
    "email_con_20_10 = df_customer[df_customer['EmailAddress'].str.contains('20|10', na=False)]\n",
    "\n",
    "print(email_con_20_10[['EmailAddress']])"
   ]
  },
  {
   "cell_type": "code",
   "execution_count": null,
   "id": "5fc5a2ac-c211-48ca-9fe9-9ed291086f0d",
   "metadata": {},
   "outputs": [],
   "source": [
    "df_customer['EmailLength'] = df_customer['EmailAddress'].str.len()\n",
    "\n",
    "#Ordino per lunghezza crescente\n",
    "cinque_piu_corti = df_customer.nsmallest(5, 'EmailLength')[['EmailAddress', 'EmailLength']]\n",
    "\n",
    "#Ordina per lunghezza decrescente\n",
    "cinque_piu_lunghi = df_customer.nlargest(5, 'EmailLength')[['EmailAddress', 'EmailLength']]\n",
    "\n",
    "print(\"Cinque email più corte:\")\n",
    "print(cinque_piu_corti)\n",
    "\n",
    "print(\"\\nCinque email più lunghe:\")\n",
    "print(cinque_piu_lunghi)"
   ]
  },
  {
   "cell_type": "code",
   "execution_count": null,
   "id": "fcbbba28-cee5-43d5-b5e7-cb96513bdb8c",
   "metadata": {},
   "outputs": [],
   "source": [
    "df_customer['EmailAddress'] = df_customer['EmailAddress'].str.replace(\n",
    "    'adventure-works.com', 'aw-db.com', regex=False\n",
    ")\n",
    "\n",
    "#Verifico la sostituzione\n",
    "print(df_customer['EmailAddress'].head())"
   ]
  },
  {
   "cell_type": "code",
   "execution_count": null,
   "id": "36572ea7-9a96-4283-8e08-c9ec863cf108",
   "metadata": {},
   "outputs": [],
   "source": [
    "indirizzi_street = df_customer[df_customer['AddressLine1'].str.contains('Street', na=False)]\n",
    "\n",
    "print(indirizzi_street[['AddressLine1']])"
   ]
  },
  {
   "cell_type": "code",
   "execution_count": null,
   "id": "ca9507ef-487a-4278-b571-2c65a4b142a3",
   "metadata": {},
   "outputs": [],
   "source": []
  }
 ],
 "metadata": {
  "kernelspec": {
   "display_name": "Python [conda env:base] *",
   "language": "python",
   "name": "conda-base-py"
  },
  "language_info": {
   "codemirror_mode": {
    "name": "ipython",
    "version": 3
   },
   "file_extension": ".py",
   "mimetype": "text/x-python",
   "name": "python",
   "nbconvert_exporter": "python",
   "pygments_lexer": "ipython3",
   "version": "3.12.7"
  }
 },
 "nbformat": 4,
 "nbformat_minor": 5
}
