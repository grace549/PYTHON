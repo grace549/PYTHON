{
 "cells": [
  {
   "cell_type": "code",
   "execution_count": null,
   "id": "987cf0fa-11d4-413b-8546-120d2bc49bec",
   "metadata": {},
   "outputs": [],
   "source": [
    "import pandas as pd\n",
    "df_automobile = pd.read_csv('automobile.csv')"
   ]
  },
  {
   "cell_type": "code",
   "execution_count": null,
   "id": "345a9bd4-80a5-4d62-8f1e-4f451f013af7",
   "metadata": {},
   "outputs": [],
   "source": [
    "#Verifica quanti valori nulli ci sono per ogni colonna\n",
    "valori_nulli = df_automobile.isnull().sum()\n",
    "\n",
    "#Visualizza solo le colonne che hanno almeno 1 valore nullo\n",
    "valori_nulli_significativi = valori_nulli[valori_nulli > 0]\n",
    "\n",
    "print(\"Colonne con valori nulli:\\n\")\n",
    "print(valori_nulli_significativi)"
   ]
  },
  {
   "cell_type": "code",
   "execution_count": null,
   "id": "4a693b6b-62cd-4de4-907d-bbc46c8f23bf",
   "metadata": {},
   "outputs": [],
   "source": [
    "#Filtra le righe con valore nullo in 'num-of-doors'\n",
    "righe_null_doors = df_automobile[df_automobile['num-of-doors'].isnull()]\n",
    "\n",
    "# Mostra le righe trovate\n",
    "print(righe_null_doors)"
   ]
  },
  {
   "cell_type": "code",
   "execution_count": null,
   "id": "097d0dcd-b20a-4d0f-95b2-d0a930588ca5",
   "metadata": {},
   "outputs": [],
   "source": [
    "print(df_automobile.groupby('body-style')['num-of-doors'].value_counts())"
   ]
  },
  {
   "cell_type": "code",
   "execution_count": null,
   "id": "9d376fde-4a59-4708-8ebb-1f4b30a3ef95",
   "metadata": {},
   "outputs": [],
   "source": [
    "#Calcoliamo la modalità (valore più frequente) per ogni body-style\n",
    "moda_num_doors = df_automobile.groupby('body-style')['num-of-doors'].agg(lambda x: x.mode().iloc[0])\n",
    "\n",
    "#Funzione per sostituire nulli in base al body-style\n",
    "def riempi_num_doors(row):\n",
    "    if pd.isnull(row['num-of-doors']):\n",
    "        return moda_num_doors[row['body-style']]\n",
    "    else:\n",
    "        return row['num-of-doors']\n",
    "\n",
    "# Applichiamo la funzione\n",
    "df_automobile['num-of-doors'] = df_automobile.apply(riempi_num_doors, axis=1)\n",
    "\n",
    "#Tutte le righe che avevano valori nulli in num-of-doors ora avranno il numero di porte più comune in base al loro tipo di carrozzeria (body-style)."
   ]
  },
  {
   "cell_type": "code",
   "execution_count": null,
   "id": "201f1cdd-e9f3-4bb1-8def-b785cd62cc08",
   "metadata": {},
   "outputs": [],
   "source": []
  }
 ],
 "metadata": {
  "kernelspec": {
   "display_name": "Python [conda env:base] *",
   "language": "python",
   "name": "conda-base-py"
  },
  "language_info": {
   "codemirror_mode": {
    "name": "ipython",
    "version": 3
   },
   "file_extension": ".py",
   "mimetype": "text/x-python",
   "name": "python",
   "nbconvert_exporter": "python",
   "pygments_lexer": "ipython3",
   "version": "3.12.7"
  }
 },
 "nbformat": 4,
 "nbformat_minor": 5
}
